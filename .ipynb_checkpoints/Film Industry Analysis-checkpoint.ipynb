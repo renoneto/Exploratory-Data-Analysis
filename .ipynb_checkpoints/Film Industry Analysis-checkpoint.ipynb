{
 "cells": [
  {
   "cell_type": "markdown",
   "metadata": {},
   "source": [
    "## Final Project Submission\n",
    "\n",
    "Please fill out:\n",
    "* Student name: `Reno Vieira Neto`\n",
    "* Student pace: `Self Paced`\n",
    "* Scheduled project review date/time: \n",
    "* Instructor name: Jeff Herman\n",
    "* Blog post URL: https://github.com/renoneto/first_module_project\n"
   ]
  },
  {
   "cell_type": "markdown",
   "metadata": {},
   "source": [
    "# The Project\n",
    ">Microsoft sees all the big companies creating original video content, and they want to get in on the fun. They have decided to create a new movie studio, but the problem is they don’t know anything about creating movies. They have hired you to help them better understand the movie industry. Your team is charged with doing data analysis and creating a presentation that explores what type of films are currently doing the best at the box office. You must then translate those findings into actionable insights that the CEO can use when deciding what type of films they should be creating.\n",
    "\n",
    "\n",
    "# Table of Contents <a class=\"anchor\" id=\"toc\"></a>\n",
    "* [Unzip Files](#unzip-files)\n",
    "* [Explore Datasets](#explore-datasets)\n",
    "* [Start of Analysis](#analysis)\n",
    "* [First Question: Is the number of new movies growing over time?](#first-question)\n",
    "* [Second Question: Which `genres` have the most movies?](#second-question)\n",
    "* [Third Question: Which `genres` have consistently had the most No. of movies over time?](#third-question)\n",
    "* [Fourth Question: What are the best/most rated `genres`?](#fourth-question)\n",
    "* [Fifth Question: Which roles are the most important in a movie?](#fifth-question)\n",
    "* [Sixth Question: What's the impact in terms of the popularity of having a movie playing internationally?](#sixth-question)\n",
    "* [Conclusions](#conclusions)\n",
    "* [Final Thoughts](#final-thoughts)\n",
    "\n",
    "## Import necessary packages"
   ]
  },
  {
   "cell_type": "code",
   "execution_count": 1,
   "metadata": {},
   "outputs": [],
   "source": [
    "from os import listdir, makedirs\n",
    "from os.path import isfile, join, exists\n",
    "import warnings\n",
    "\n",
    "import gzip\n",
    "import matplotlib.pyplot as plt\n",
    "import numpy as np\n",
    "import pandas as pd\n",
    "import seaborn as sns\n",
    "\n",
    "warnings.filterwarnings('ignore')\n",
    "%matplotlib inline"
   ]
  },
  {
   "cell_type": "markdown",
   "metadata": {},
   "source": [
    "## Unzip Files <a class=\"anchor\" id=\"unzip-files\"></a>\n",
    "\n",
    "First, I noticed that files were zipped, so I decided to unzip them here. The approach I'm taking is straightforward. However, it might not be the best if we had millions of files with different file types.\n",
    "\n",
    "The process if the following:\n",
    "1. List all file paths of `'.gz'` files stored in `'zippedData'` folder.\n",
    "2. Go through each file path and unzip the file.\n",
    "3. If csv, then just a regular `pd.read_csv`\n",
    "4. I noticed that there's also a `'.tsv'` file, so if that's the case, then the delimiter is `'\\t'` (and `enconding = 'unicode_escape'` was added after I faced some issues reading the file, not scalable if we had more files with different types or enconding requirements).\n",
    "5. Finally, I export each to `'unzippedData'` folder."
   ]
  },
  {
   "cell_type": "code",
   "execution_count": 2,
   "metadata": {},
   "outputs": [
    {
     "name": "stdout",
     "output_type": "stream",
     "text": [
      "['imdb.title.crew.csv.gz', 'tmdb.movies.csv.gz', 'imdb.title.akas.csv.gz']\n"
     ]
    }
   ],
   "source": [
    "# Define folder with Zipped Files and folder where the Unzipped Files will be stored\n",
    "zipped_path = 'zippedData/'\n",
    "unzipped_path = 'unzippedData/'\n",
    "\n",
    "# Extract all zipped files. The ouptut is a list of all filepaths.\n",
    "zipped_files = [f for f in listdir(zipped_path) if isfile(join(zipped_path, f)) and f[-3:] == '.gz']\n",
    "\n",
    "# Print first three filepaths\n",
    "print(zipped_files[:3])"
   ]
  },
  {
   "cell_type": "code",
   "execution_count": 3,
   "metadata": {},
   "outputs": [],
   "source": [
    "# Create unzippedData folder\n",
    "if not exists('unzippedData'):\n",
    "    makedirs('unzippedData')\n",
    "\n",
    "# Loop through zipped files\n",
    "for file in zipped_files:\n",
    "    \n",
    "    # Create full filepath\n",
    "    filepath = zipped_path + file\n",
    "    \n",
    "    # Unzip file\n",
    "    with gzip.open(filepath, 'rb') as unzipped_file:\n",
    "        \n",
    "        # Extract file type from path\n",
    "        file_type = filepath[:-3][-3:]\n",
    "        \n",
    "        # If statement to figure out the appropriate way to read the file\n",
    "        if file_type == 'csv':\n",
    "            df = pd.read_csv(unzipped_file)\n",
    "        elif file_type == 'tsv':\n",
    "            df = pd.read_csv(unzipped_file, delimiter='\\t', encoding= 'unicode_escape')\n",
    "        else:\n",
    "            print('Cannot parse ' + file_path)\n",
    "            break\n",
    "            \n",
    "        # Export file\n",
    "        df.to_csv(unzipped_path + file[:-3])"
   ]
  },
  {
   "cell_type": "code",
   "execution_count": 4,
   "metadata": {},
   "outputs": [
    {
     "name": "stdout",
     "output_type": "stream",
     "text": [
      "No. of Unzipped Files: 11\n",
      "No. of Zipped Files: 11\n"
     ]
    },
    {
     "data": {
      "text/plain": [
       "['tmdb.movies.csv',\n",
       " 'imdb.title.crew.csv',\n",
       " 'rt.reviews.tsv',\n",
       " 'tn.movie_budgets.csv',\n",
       " 'imdb.title.ratings.csv',\n",
       " 'imdb.name.basics.csv',\n",
       " 'imdb.title.principals.csv',\n",
       " 'imdb.title.akas.csv',\n",
       " 'bom.movie_gross.csv',\n",
       " 'imdb.title.basics.csv',\n",
       " 'rt.movie_info.tsv']"
      ]
     },
     "execution_count": 4,
     "metadata": {},
     "output_type": "execute_result"
    }
   ],
   "source": [
    "# Check if all files were extracted\n",
    "unzipped_files = [f for f in listdir(unzipped_path) if isfile(join(unzipped_path, f)) and f[-3:] in ['csv', 'tsv']]\n",
    "print('No. of Unzipped Files: ' + str(len(set(unzipped_files))))\n",
    "print('No. of Zipped Files: ' + str(len(set(zipped_files))))\n",
    "\n",
    "# Let's see all unzipped files\n",
    "unzipped_files"
   ]
  },
  {
   "cell_type": "markdown",
   "metadata": {},
   "source": [
    "Nice! All files were extracted! <br> Let's move on and explore the datasets.\n",
    "\n",
    "[Go Back to Table of Contents](#toc)\n",
    "## Explore datasets <a class=\"anchor\" id=\"explore-datasets\"></a>\n",
    "\n",
    "I noticed several IMDB files, so I'm going to stick my analysis to IMDB, since it would be complicated to pull information from different sources based on the movie title.\n",
    "\n",
    "### IMDB Datasets - 'imdb.title.crew.csv'"
   ]
  },
  {
   "cell_type": "code",
   "execution_count": 5,
   "metadata": {},
   "outputs": [
    {
     "data": {
      "text/html": [
       "<div>\n",
       "<style scoped>\n",
       "    .dataframe tbody tr th:only-of-type {\n",
       "        vertical-align: middle;\n",
       "    }\n",
       "\n",
       "    .dataframe tbody tr th {\n",
       "        vertical-align: top;\n",
       "    }\n",
       "\n",
       "    .dataframe thead th {\n",
       "        text-align: right;\n",
       "    }\n",
       "</style>\n",
       "<table border=\"1\" class=\"dataframe\">\n",
       "  <thead>\n",
       "    <tr style=\"text-align: right;\">\n",
       "      <th></th>\n",
       "      <th>tconst</th>\n",
       "      <th>directors</th>\n",
       "      <th>writers</th>\n",
       "    </tr>\n",
       "  </thead>\n",
       "  <tbody>\n",
       "    <tr>\n",
       "      <th>0</th>\n",
       "      <td>tt0285252</td>\n",
       "      <td>nm0899854</td>\n",
       "      <td>nm0899854</td>\n",
       "    </tr>\n",
       "    <tr>\n",
       "      <th>1</th>\n",
       "      <td>tt0438973</td>\n",
       "      <td>NaN</td>\n",
       "      <td>nm0175726,nm1802864</td>\n",
       "    </tr>\n",
       "    <tr>\n",
       "      <th>2</th>\n",
       "      <td>tt0462036</td>\n",
       "      <td>nm1940585</td>\n",
       "      <td>nm1940585</td>\n",
       "    </tr>\n",
       "    <tr>\n",
       "      <th>3</th>\n",
       "      <td>tt0835418</td>\n",
       "      <td>nm0151540</td>\n",
       "      <td>nm0310087,nm0841532</td>\n",
       "    </tr>\n",
       "    <tr>\n",
       "      <th>4</th>\n",
       "      <td>tt0878654</td>\n",
       "      <td>nm0089502,nm2291498,nm2292011</td>\n",
       "      <td>nm0284943</td>\n",
       "    </tr>\n",
       "  </tbody>\n",
       "</table>\n",
       "</div>"
      ],
      "text/plain": [
       "      tconst                      directors              writers\n",
       "0  tt0285252                      nm0899854            nm0899854\n",
       "1  tt0438973                            NaN  nm0175726,nm1802864\n",
       "2  tt0462036                      nm1940585            nm1940585\n",
       "3  tt0835418                      nm0151540  nm0310087,nm0841532\n",
       "4  tt0878654  nm0089502,nm2291498,nm2292011            nm0284943"
      ]
     },
     "execution_count": 5,
     "metadata": {},
     "output_type": "execute_result"
    }
   ],
   "source": [
    "# Read and drop first column (index column)\n",
    "imdb_title_crew = pd.read_csv(unzipped_path + 'imdb.title.crew.csv')\n",
    "imdb_title_crew.drop(imdb_title_crew.columns[0], axis=1, inplace=True)\n",
    "imdb_title_crew.head()"
   ]
  },
  {
   "cell_type": "markdown",
   "metadata": {},
   "source": [
    "The next step is to convert those strings (`directors` and `writers`) with delimiters to lists. Since we have some null elements, I don't want to convert those to string, so I'm going to create a function to this right."
   ]
  },
  {
   "cell_type": "code",
   "execution_count": 6,
   "metadata": {},
   "outputs": [],
   "source": [
    "def convert_to_list(element):\n",
    "    \"\"\"Convert a comma-delimited string to a list and keep nulls as nulls.\n",
    "\n",
    "    Args:\n",
    "      element(str): string with comma-separated items.\n",
    "\n",
    "    Returns:\n",
    "      A list with same same items\n",
    "    \"\"\"\n",
    "    # Check if element is null, if not then create a list\n",
    "    if pd.isnull(element) == False:\n",
    "        value = str(element).split(',')\n",
    "    else:\n",
    "        value = np.nan\n",
    "    \n",
    "    return value"
   ]
  },
  {
   "cell_type": "code",
   "execution_count": 7,
   "metadata": {},
   "outputs": [
    {
     "data": {
      "text/html": [
       "<div>\n",
       "<style scoped>\n",
       "    .dataframe tbody tr th:only-of-type {\n",
       "        vertical-align: middle;\n",
       "    }\n",
       "\n",
       "    .dataframe tbody tr th {\n",
       "        vertical-align: top;\n",
       "    }\n",
       "\n",
       "    .dataframe thead th {\n",
       "        text-align: right;\n",
       "    }\n",
       "</style>\n",
       "<table border=\"1\" class=\"dataframe\">\n",
       "  <thead>\n",
       "    <tr style=\"text-align: right;\">\n",
       "      <th></th>\n",
       "      <th>tconst</th>\n",
       "      <th>directors</th>\n",
       "      <th>writers</th>\n",
       "    </tr>\n",
       "  </thead>\n",
       "  <tbody>\n",
       "    <tr>\n",
       "      <th>0</th>\n",
       "      <td>tt0285252</td>\n",
       "      <td>[nm0899854]</td>\n",
       "      <td>[nm0899854]</td>\n",
       "    </tr>\n",
       "    <tr>\n",
       "      <th>1</th>\n",
       "      <td>tt0438973</td>\n",
       "      <td>NaN</td>\n",
       "      <td>[nm0175726, nm1802864]</td>\n",
       "    </tr>\n",
       "    <tr>\n",
       "      <th>2</th>\n",
       "      <td>tt0462036</td>\n",
       "      <td>[nm1940585]</td>\n",
       "      <td>[nm1940585]</td>\n",
       "    </tr>\n",
       "    <tr>\n",
       "      <th>3</th>\n",
       "      <td>tt0835418</td>\n",
       "      <td>[nm0151540]</td>\n",
       "      <td>[nm0310087, nm0841532]</td>\n",
       "    </tr>\n",
       "    <tr>\n",
       "      <th>4</th>\n",
       "      <td>tt0878654</td>\n",
       "      <td>[nm0089502, nm2291498, nm2292011]</td>\n",
       "      <td>[nm0284943]</td>\n",
       "    </tr>\n",
       "  </tbody>\n",
       "</table>\n",
       "</div>"
      ],
      "text/plain": [
       "      tconst                          directors                 writers\n",
       "0  tt0285252                        [nm0899854]             [nm0899854]\n",
       "1  tt0438973                                NaN  [nm0175726, nm1802864]\n",
       "2  tt0462036                        [nm1940585]             [nm1940585]\n",
       "3  tt0835418                        [nm0151540]  [nm0310087, nm0841532]\n",
       "4  tt0878654  [nm0089502, nm2291498, nm2292011]             [nm0284943]"
      ]
     },
     "execution_count": 7,
     "metadata": {},
     "output_type": "execute_result"
    }
   ],
   "source": [
    "# Apply function to convert string to list\n",
    "imdb_title_crew['directors'] = imdb_title_crew['directors'].apply(convert_to_list)\n",
    "imdb_title_crew['writers'] = imdb_title_crew['writers'].apply(convert_to_list)\n",
    "imdb_title_crew.head()"
   ]
  },
  {
   "cell_type": "markdown",
   "metadata": {},
   "source": [
    "I believe the first column is the unique ID for Titles and it contains only one ID. <br> It's a good idea to confirm that though."
   ]
  },
  {
   "cell_type": "code",
   "execution_count": 8,
   "metadata": {},
   "outputs": [
    {
     "data": {
      "text/plain": [
       "[]"
      ]
     },
     "execution_count": 8,
     "metadata": {},
     "output_type": "execute_result"
    }
   ],
   "source": [
    "# Convert 'tconst' to list and count the number of elements, all should have only one.\n",
    "[i for i in imdb_title_crew['tconst'].apply(convert_to_list) if len(i) != 1]"
   ]
  },
  {
   "cell_type": "markdown",
   "metadata": {},
   "source": [
    "We're good. `tconst` contains only one element per row."
   ]
  },
  {
   "cell_type": "code",
   "execution_count": 9,
   "metadata": {},
   "outputs": [
    {
     "name": "stdout",
     "output_type": "stream",
     "text": [
      "<class 'pandas.core.frame.DataFrame'>\n",
      "RangeIndex: 146144 entries, 0 to 146143\n",
      "Data columns (total 3 columns):\n",
      " #   Column     Non-Null Count   Dtype \n",
      "---  ------     --------------   ----- \n",
      " 0   tconst     146144 non-null  object\n",
      " 1   directors  140417 non-null  object\n",
      " 2   writers    110261 non-null  object\n",
      "dtypes: object(3)\n",
      "memory usage: 3.3+ MB\n"
     ]
    }
   ],
   "source": [
    "# Let's look at the data\n",
    "imdb_title_crew.info()"
   ]
  },
  {
   "cell_type": "markdown",
   "metadata": {},
   "source": [
    "#### What's the dataset?\n",
    "- `tconst`: Unique ID for titles\n",
    "- `directors`: List of directors with their Unique ID\n",
    "- `writers`: List of writers with their Unique ID\n",
    "\n",
    "**Description:** List of movies with Directors and Writers.\n",
    "\n",
    "### IMDB Datasets - 'imdb.title.ratings.csv'"
   ]
  },
  {
   "cell_type": "code",
   "execution_count": 10,
   "metadata": {},
   "outputs": [
    {
     "data": {
      "text/html": [
       "<div>\n",
       "<style scoped>\n",
       "    .dataframe tbody tr th:only-of-type {\n",
       "        vertical-align: middle;\n",
       "    }\n",
       "\n",
       "    .dataframe tbody tr th {\n",
       "        vertical-align: top;\n",
       "    }\n",
       "\n",
       "    .dataframe thead th {\n",
       "        text-align: right;\n",
       "    }\n",
       "</style>\n",
       "<table border=\"1\" class=\"dataframe\">\n",
       "  <thead>\n",
       "    <tr style=\"text-align: right;\">\n",
       "      <th></th>\n",
       "      <th>tconst</th>\n",
       "      <th>averagerating</th>\n",
       "      <th>numvotes</th>\n",
       "    </tr>\n",
       "  </thead>\n",
       "  <tbody>\n",
       "    <tr>\n",
       "      <th>0</th>\n",
       "      <td>tt10356526</td>\n",
       "      <td>8.3</td>\n",
       "      <td>31</td>\n",
       "    </tr>\n",
       "    <tr>\n",
       "      <th>1</th>\n",
       "      <td>tt10384606</td>\n",
       "      <td>8.9</td>\n",
       "      <td>559</td>\n",
       "    </tr>\n",
       "    <tr>\n",
       "      <th>2</th>\n",
       "      <td>tt1042974</td>\n",
       "      <td>6.4</td>\n",
       "      <td>20</td>\n",
       "    </tr>\n",
       "    <tr>\n",
       "      <th>3</th>\n",
       "      <td>tt1043726</td>\n",
       "      <td>4.2</td>\n",
       "      <td>50352</td>\n",
       "    </tr>\n",
       "    <tr>\n",
       "      <th>4</th>\n",
       "      <td>tt1060240</td>\n",
       "      <td>6.5</td>\n",
       "      <td>21</td>\n",
       "    </tr>\n",
       "  </tbody>\n",
       "</table>\n",
       "</div>"
      ],
      "text/plain": [
       "       tconst  averagerating  numvotes\n",
       "0  tt10356526            8.3        31\n",
       "1  tt10384606            8.9       559\n",
       "2   tt1042974            6.4        20\n",
       "3   tt1043726            4.2     50352\n",
       "4   tt1060240            6.5        21"
      ]
     },
     "execution_count": 10,
     "metadata": {},
     "output_type": "execute_result"
    }
   ],
   "source": [
    "# Read file and drop first column\n",
    "imdb_title_ratings = pd.read_csv(unzipped_path + 'imdb.title.ratings.csv')\n",
    "imdb_title_ratings.drop(imdb_title_ratings.columns[0], axis=1, inplace=True)\n",
    "imdb_title_ratings.head()"
   ]
  },
  {
   "cell_type": "code",
   "execution_count": 11,
   "metadata": {},
   "outputs": [
    {
     "name": "stdout",
     "output_type": "stream",
     "text": [
      "<class 'pandas.core.frame.DataFrame'>\n",
      "RangeIndex: 73856 entries, 0 to 73855\n",
      "Data columns (total 3 columns):\n",
      " #   Column         Non-Null Count  Dtype  \n",
      "---  ------         --------------  -----  \n",
      " 0   tconst         73856 non-null  object \n",
      " 1   averagerating  73856 non-null  float64\n",
      " 2   numvotes       73856 non-null  int64  \n",
      "dtypes: float64(1), int64(1), object(1)\n",
      "memory usage: 1.7+ MB\n"
     ]
    }
   ],
   "source": [
    "# Basic info\n",
    "imdb_title_ratings.info()"
   ]
  },
  {
   "cell_type": "code",
   "execution_count": 12,
   "metadata": {},
   "outputs": [
    {
     "data": {
      "text/html": [
       "<div>\n",
       "<style scoped>\n",
       "    .dataframe tbody tr th:only-of-type {\n",
       "        vertical-align: middle;\n",
       "    }\n",
       "\n",
       "    .dataframe tbody tr th {\n",
       "        vertical-align: top;\n",
       "    }\n",
       "\n",
       "    .dataframe thead th {\n",
       "        text-align: right;\n",
       "    }\n",
       "</style>\n",
       "<table border=\"1\" class=\"dataframe\">\n",
       "  <thead>\n",
       "    <tr style=\"text-align: right;\">\n",
       "      <th></th>\n",
       "      <th>averagerating</th>\n",
       "      <th>numvotes</th>\n",
       "    </tr>\n",
       "  </thead>\n",
       "  <tbody>\n",
       "    <tr>\n",
       "      <th>count</th>\n",
       "      <td>73856.000000</td>\n",
       "      <td>7.385600e+04</td>\n",
       "    </tr>\n",
       "    <tr>\n",
       "      <th>mean</th>\n",
       "      <td>6.332729</td>\n",
       "      <td>3.523662e+03</td>\n",
       "    </tr>\n",
       "    <tr>\n",
       "      <th>std</th>\n",
       "      <td>1.474978</td>\n",
       "      <td>3.029402e+04</td>\n",
       "    </tr>\n",
       "    <tr>\n",
       "      <th>min</th>\n",
       "      <td>1.000000</td>\n",
       "      <td>5.000000e+00</td>\n",
       "    </tr>\n",
       "    <tr>\n",
       "      <th>25%</th>\n",
       "      <td>5.500000</td>\n",
       "      <td>1.400000e+01</td>\n",
       "    </tr>\n",
       "    <tr>\n",
       "      <th>50%</th>\n",
       "      <td>6.500000</td>\n",
       "      <td>4.900000e+01</td>\n",
       "    </tr>\n",
       "    <tr>\n",
       "      <th>75%</th>\n",
       "      <td>7.400000</td>\n",
       "      <td>2.820000e+02</td>\n",
       "    </tr>\n",
       "    <tr>\n",
       "      <th>max</th>\n",
       "      <td>10.000000</td>\n",
       "      <td>1.841066e+06</td>\n",
       "    </tr>\n",
       "  </tbody>\n",
       "</table>\n",
       "</div>"
      ],
      "text/plain": [
       "       averagerating      numvotes\n",
       "count   73856.000000  7.385600e+04\n",
       "mean        6.332729  3.523662e+03\n",
       "std         1.474978  3.029402e+04\n",
       "min         1.000000  5.000000e+00\n",
       "25%         5.500000  1.400000e+01\n",
       "50%         6.500000  4.900000e+01\n",
       "75%         7.400000  2.820000e+02\n",
       "max        10.000000  1.841066e+06"
      ]
     },
     "execution_count": 12,
     "metadata": {},
     "output_type": "execute_result"
    }
   ],
   "source": [
    "# Some statistics\n",
    "imdb_title_ratings.describe()"
   ]
  },
  {
   "cell_type": "markdown",
   "metadata": {},
   "source": [
    "We got some weird notation above, let's round the numbers"
   ]
  },
  {
   "cell_type": "code",
   "execution_count": 13,
   "metadata": {},
   "outputs": [
    {
     "data": {
      "text/plain": [
       "count      73856.0\n",
       "mean        3524.0\n",
       "std        30294.0\n",
       "min            5.0\n",
       "25%           14.0\n",
       "50%           49.0\n",
       "75%          282.0\n",
       "max      1841066.0\n",
       "Name: numvotes, dtype: float64"
      ]
     },
     "execution_count": 13,
     "metadata": {},
     "output_type": "execute_result"
    }
   ],
   "source": [
    "imdb_title_ratings['numvotes'].describe().round()"
   ]
  },
  {
   "cell_type": "markdown",
   "metadata": {},
   "source": [
    "#### What's the dataset?\n",
    "- `tconst`: Unique ID for titles\n",
    "- `averagerating`: Avg rating for title\n",
    "- `numvotes`: Num of votes for a given title\n",
    "\n",
    "**Description:** List of movies with avg. ratings and no. of votes.\n",
    "\n",
    "### IMDB Datasets - 'imdb.name.basics.csv'"
   ]
  },
  {
   "cell_type": "code",
   "execution_count": 14,
   "metadata": {},
   "outputs": [
    {
     "data": {
      "text/html": [
       "<div>\n",
       "<style scoped>\n",
       "    .dataframe tbody tr th:only-of-type {\n",
       "        vertical-align: middle;\n",
       "    }\n",
       "\n",
       "    .dataframe tbody tr th {\n",
       "        vertical-align: top;\n",
       "    }\n",
       "\n",
       "    .dataframe thead th {\n",
       "        text-align: right;\n",
       "    }\n",
       "</style>\n",
       "<table border=\"1\" class=\"dataframe\">\n",
       "  <thead>\n",
       "    <tr style=\"text-align: right;\">\n",
       "      <th></th>\n",
       "      <th>nconst</th>\n",
       "      <th>primary_name</th>\n",
       "      <th>birth_year</th>\n",
       "      <th>death_year</th>\n",
       "      <th>primary_profession</th>\n",
       "      <th>known_for_titles</th>\n",
       "    </tr>\n",
       "  </thead>\n",
       "  <tbody>\n",
       "    <tr>\n",
       "      <th>0</th>\n",
       "      <td>nm0061671</td>\n",
       "      <td>Mary Ellen Bauder</td>\n",
       "      <td>NaN</td>\n",
       "      <td>NaN</td>\n",
       "      <td>miscellaneous,production_manager,producer</td>\n",
       "      <td>tt0837562,tt2398241,tt0844471,tt0118553</td>\n",
       "    </tr>\n",
       "    <tr>\n",
       "      <th>1</th>\n",
       "      <td>nm0061865</td>\n",
       "      <td>Joseph Bauer</td>\n",
       "      <td>NaN</td>\n",
       "      <td>NaN</td>\n",
       "      <td>composer,music_department,sound_department</td>\n",
       "      <td>tt0896534,tt6791238,tt0287072,tt1682940</td>\n",
       "    </tr>\n",
       "    <tr>\n",
       "      <th>2</th>\n",
       "      <td>nm0062070</td>\n",
       "      <td>Bruce Baum</td>\n",
       "      <td>NaN</td>\n",
       "      <td>NaN</td>\n",
       "      <td>miscellaneous,actor,writer</td>\n",
       "      <td>tt1470654,tt0363631,tt0104030,tt0102898</td>\n",
       "    </tr>\n",
       "    <tr>\n",
       "      <th>3</th>\n",
       "      <td>nm0062195</td>\n",
       "      <td>Axel Baumann</td>\n",
       "      <td>NaN</td>\n",
       "      <td>NaN</td>\n",
       "      <td>camera_department,cinematographer,art_department</td>\n",
       "      <td>tt0114371,tt2004304,tt1618448,tt1224387</td>\n",
       "    </tr>\n",
       "    <tr>\n",
       "      <th>4</th>\n",
       "      <td>nm0062798</td>\n",
       "      <td>Pete Baxter</td>\n",
       "      <td>NaN</td>\n",
       "      <td>NaN</td>\n",
       "      <td>production_designer,art_department,set_decorator</td>\n",
       "      <td>tt0452644,tt0452692,tt3458030,tt2178256</td>\n",
       "    </tr>\n",
       "  </tbody>\n",
       "</table>\n",
       "</div>"
      ],
      "text/plain": [
       "      nconst       primary_name  birth_year  death_year  \\\n",
       "0  nm0061671  Mary Ellen Bauder         NaN         NaN   \n",
       "1  nm0061865       Joseph Bauer         NaN         NaN   \n",
       "2  nm0062070         Bruce Baum         NaN         NaN   \n",
       "3  nm0062195       Axel Baumann         NaN         NaN   \n",
       "4  nm0062798        Pete Baxter         NaN         NaN   \n",
       "\n",
       "                                 primary_profession  \\\n",
       "0         miscellaneous,production_manager,producer   \n",
       "1        composer,music_department,sound_department   \n",
       "2                        miscellaneous,actor,writer   \n",
       "3  camera_department,cinematographer,art_department   \n",
       "4  production_designer,art_department,set_decorator   \n",
       "\n",
       "                          known_for_titles  \n",
       "0  tt0837562,tt2398241,tt0844471,tt0118553  \n",
       "1  tt0896534,tt6791238,tt0287072,tt1682940  \n",
       "2  tt1470654,tt0363631,tt0104030,tt0102898  \n",
       "3  tt0114371,tt2004304,tt1618448,tt1224387  \n",
       "4  tt0452644,tt0452692,tt3458030,tt2178256  "
      ]
     },
     "execution_count": 14,
     "metadata": {},
     "output_type": "execute_result"
    }
   ],
   "source": [
    "# Read file and drop first column\n",
    "imdb_name = pd.read_csv(unzipped_path + 'imdb.name.basics.csv')\n",
    "imdb_name.drop(imdb_name.columns[0], axis=1, inplace=True)\n",
    "imdb_name.head()"
   ]
  },
  {
   "cell_type": "markdown",
   "metadata": {},
   "source": [
    "Oh that `nconst` looks familiar. It's the Unique ID for writers and directors and we also have the titles under `known_for_titles`."
   ]
  },
  {
   "cell_type": "code",
   "execution_count": 15,
   "metadata": {},
   "outputs": [
    {
     "name": "stdout",
     "output_type": "stream",
     "text": [
      "<class 'pandas.core.frame.DataFrame'>\n",
      "RangeIndex: 606648 entries, 0 to 606647\n",
      "Data columns (total 6 columns):\n",
      " #   Column              Non-Null Count   Dtype  \n",
      "---  ------              --------------   -----  \n",
      " 0   nconst              606648 non-null  object \n",
      " 1   primary_name        606648 non-null  object \n",
      " 2   birth_year          82736 non-null   float64\n",
      " 3   death_year          6783 non-null    float64\n",
      " 4   primary_profession  555308 non-null  object \n",
      " 5   known_for_titles    576444 non-null  object \n",
      "dtypes: float64(2), object(4)\n",
      "memory usage: 27.8+ MB\n"
     ]
    }
   ],
   "source": [
    "imdb_name.info()"
   ]
  },
  {
   "cell_type": "markdown",
   "metadata": {},
   "source": [
    "**Important points to notice:**\n",
    "- Several nulls for `birth_year` and `death_year`.\n",
    "- Some nulls for `primary_profession` and `known_for_titles`.\n",
    "\n",
    "Let's look at `primary_profession` and try to understand what we're looking at."
   ]
  },
  {
   "cell_type": "code",
   "execution_count": 16,
   "metadata": {},
   "outputs": [
    {
     "data": {
      "text/plain": [
       "primary_profession\n",
       "actor                       88306\n",
       "actress                     58430\n",
       "producer                    23324\n",
       "composer                    20125\n",
       "writer                      18247\n",
       "cinematographer             11297\n",
       "director                     9149\n",
       "editor                       8840\n",
       "director,writer,producer     8148\n",
       "producer,director,writer     6486\n",
       "Name: nconst, dtype: int64"
      ]
     },
     "execution_count": 16,
     "metadata": {},
     "output_type": "execute_result"
    }
   ],
   "source": [
    "imdb_name.groupby('primary_profession').count()['nconst'].sort_values(ascending=False).head(10)"
   ]
  },
  {
   "cell_type": "markdown",
   "metadata": {},
   "source": [
    "It's a list of individuals that are somehow connected to movies/titles (as Actor/Actress to Writer, Composer, Producer, etc.)\n",
    "\n",
    "Next, let's convert `primary_profession` and `known_for_titles` to lists."
   ]
  },
  {
   "cell_type": "code",
   "execution_count": 17,
   "metadata": {},
   "outputs": [],
   "source": [
    "# Convert strings to lists\n",
    "imdb_name['primary_profession'] = imdb_name['primary_profession'].apply(lambda x: convert_to_list(x))\n",
    "imdb_name['known_for_titles'] = imdb_name['known_for_titles'].apply(lambda x: convert_to_list(x))"
   ]
  },
  {
   "cell_type": "markdown",
   "metadata": {},
   "source": [
    "I'm curious to see the top 5/bottom 5 names ..."
   ]
  },
  {
   "cell_type": "code",
   "execution_count": 18,
   "metadata": {},
   "outputs": [
    {
     "data": {
      "text/plain": [
       "334669    !'aru Ikhuisi Piet Berendse\n",
       "480537                        $hutter\n",
       "68747                  'A.J.' Marriot\n",
       "177430           'Atlas' Ramachandran\n",
       "252452                'Atolomake Helu\n",
       "Name: primary_name, dtype: object"
      ]
     },
     "metadata": {},
     "output_type": "display_data"
    },
    {
     "data": {
      "text/plain": [
       "251954          Þórir Bragason\n",
       "361353        Þórir Ingvarsson\n",
       "93977       Þórunn Lárusdóttir\n",
       "173454      Þórunn Lárusdóttir\n",
       "490858    Þórður Aðalbjörnsson\n",
       "Name: primary_name, dtype: object"
      ]
     },
     "metadata": {},
     "output_type": "display_data"
    }
   ],
   "source": [
    "display(imdb_name['primary_name'].sort_values().head())\n",
    "display(imdb_name['primary_name'].sort_values().tail())"
   ]
  },
  {
   "cell_type": "markdown",
   "metadata": {},
   "source": [
    "Oh we have some weird characters. Probably international names, hopefully that will not be a problem since we have the `nconst`.\n",
    "\n",
    "Let's look at some stats of numerical columns"
   ]
  },
  {
   "cell_type": "code",
   "execution_count": 19,
   "metadata": {},
   "outputs": [
    {
     "data": {
      "text/html": [
       "<div>\n",
       "<style scoped>\n",
       "    .dataframe tbody tr th:only-of-type {\n",
       "        vertical-align: middle;\n",
       "    }\n",
       "\n",
       "    .dataframe tbody tr th {\n",
       "        vertical-align: top;\n",
       "    }\n",
       "\n",
       "    .dataframe thead th {\n",
       "        text-align: right;\n",
       "    }\n",
       "</style>\n",
       "<table border=\"1\" class=\"dataframe\">\n",
       "  <thead>\n",
       "    <tr style=\"text-align: right;\">\n",
       "      <th></th>\n",
       "      <th>birth_year</th>\n",
       "      <th>death_year</th>\n",
       "    </tr>\n",
       "  </thead>\n",
       "  <tbody>\n",
       "    <tr>\n",
       "      <th>count</th>\n",
       "      <td>82736.000000</td>\n",
       "      <td>6783.000000</td>\n",
       "    </tr>\n",
       "    <tr>\n",
       "      <th>mean</th>\n",
       "      <td>1967.043826</td>\n",
       "      <td>2000.523367</td>\n",
       "    </tr>\n",
       "    <tr>\n",
       "      <th>std</th>\n",
       "      <td>22.122190</td>\n",
       "      <td>43.951530</td>\n",
       "    </tr>\n",
       "    <tr>\n",
       "      <th>min</th>\n",
       "      <td>1.000000</td>\n",
       "      <td>17.000000</td>\n",
       "    </tr>\n",
       "    <tr>\n",
       "      <th>25%</th>\n",
       "      <td>1957.000000</td>\n",
       "      <td>2001.000000</td>\n",
       "    </tr>\n",
       "    <tr>\n",
       "      <th>50%</th>\n",
       "      <td>1971.000000</td>\n",
       "      <td>2013.000000</td>\n",
       "    </tr>\n",
       "    <tr>\n",
       "      <th>75%</th>\n",
       "      <td>1981.000000</td>\n",
       "      <td>2016.000000</td>\n",
       "    </tr>\n",
       "    <tr>\n",
       "      <th>max</th>\n",
       "      <td>2014.000000</td>\n",
       "      <td>2019.000000</td>\n",
       "    </tr>\n",
       "  </tbody>\n",
       "</table>\n",
       "</div>"
      ],
      "text/plain": [
       "         birth_year   death_year\n",
       "count  82736.000000  6783.000000\n",
       "mean    1967.043826  2000.523367\n",
       "std       22.122190    43.951530\n",
       "min        1.000000    17.000000\n",
       "25%     1957.000000  2001.000000\n",
       "50%     1971.000000  2013.000000\n",
       "75%     1981.000000  2016.000000\n",
       "max     2014.000000  2019.000000"
      ]
     },
     "execution_count": 19,
     "metadata": {},
     "output_type": "execute_result"
    }
   ],
   "source": [
    "imdb_name.describe()"
   ]
  },
  {
   "cell_type": "markdown",
   "metadata": {},
   "source": [
    "Some weird years. Min of `birth_year` is one? <br> Min of `death_year` is 17. <br> That seems off ... let's investigate"
   ]
  },
  {
   "cell_type": "code",
   "execution_count": 20,
   "metadata": {},
   "outputs": [
    {
     "data": {
      "text/html": [
       "<div>\n",
       "<style scoped>\n",
       "    .dataframe tbody tr th:only-of-type {\n",
       "        vertical-align: middle;\n",
       "    }\n",
       "\n",
       "    .dataframe tbody tr th {\n",
       "        vertical-align: top;\n",
       "    }\n",
       "\n",
       "    .dataframe thead th {\n",
       "        text-align: right;\n",
       "    }\n",
       "</style>\n",
       "<table border=\"1\" class=\"dataframe\">\n",
       "  <thead>\n",
       "    <tr style=\"text-align: right;\">\n",
       "      <th></th>\n",
       "      <th>nconst</th>\n",
       "      <th>primary_name</th>\n",
       "      <th>birth_year</th>\n",
       "      <th>death_year</th>\n",
       "      <th>primary_profession</th>\n",
       "      <th>known_for_titles</th>\n",
       "    </tr>\n",
       "  </thead>\n",
       "  <tbody>\n",
       "    <tr>\n",
       "      <th>555925</th>\n",
       "      <td>nm8572003</td>\n",
       "      <td>Michael Vignola</td>\n",
       "      <td>1.0</td>\n",
       "      <td>NaN</td>\n",
       "      <td>[composer, music_department]</td>\n",
       "      <td>[tt4099244, tt6417824, tt8200742, tt4600298]</td>\n",
       "    </tr>\n",
       "    <tr>\n",
       "      <th>21094</th>\n",
       "      <td>nm0613556</td>\n",
       "      <td>Shikibu Murasaki</td>\n",
       "      <td>973.0</td>\n",
       "      <td>1031.0</td>\n",
       "      <td>[writer]</td>\n",
       "      <td>[tt0092875, tt0043580, tt0094100, tt0256385]</td>\n",
       "    </tr>\n",
       "    <tr>\n",
       "      <th>112096</th>\n",
       "      <td>nm0019604</td>\n",
       "      <td>Dante Alighieri</td>\n",
       "      <td>1265.0</td>\n",
       "      <td>1321.0</td>\n",
       "      <td>[writer, soundtrack]</td>\n",
       "      <td>[tt1874782, tt7370578, tt1598441, tt1118686]</td>\n",
       "    </tr>\n",
       "    <tr>\n",
       "      <th>80184</th>\n",
       "      <td>nm0090504</td>\n",
       "      <td>Giovanni Boccaccio</td>\n",
       "      <td>1313.0</td>\n",
       "      <td>1375.0</td>\n",
       "      <td>[writer]</td>\n",
       "      <td>[tt0045675, tt0068832, tt0158510, tt5666304]</td>\n",
       "    </tr>\n",
       "    <tr>\n",
       "      <th>52088</th>\n",
       "      <td>nm1063158</td>\n",
       "      <td>Cheng'en Wu</td>\n",
       "      <td>1506.0</td>\n",
       "      <td>1581.0</td>\n",
       "      <td>[writer]</td>\n",
       "      <td>[tt1163129, tt6168860, tt0112778, tt1753783]</td>\n",
       "    </tr>\n",
       "  </tbody>\n",
       "</table>\n",
       "</div>"
      ],
      "text/plain": [
       "           nconst        primary_name  birth_year  death_year  \\\n",
       "555925  nm8572003     Michael Vignola         1.0         NaN   \n",
       "21094   nm0613556    Shikibu Murasaki       973.0      1031.0   \n",
       "112096  nm0019604     Dante Alighieri      1265.0      1321.0   \n",
       "80184   nm0090504  Giovanni Boccaccio      1313.0      1375.0   \n",
       "52088   nm1063158         Cheng'en Wu      1506.0      1581.0   \n",
       "\n",
       "                  primary_profession  \\\n",
       "555925  [composer, music_department]   \n",
       "21094                       [writer]   \n",
       "112096          [writer, soundtrack]   \n",
       "80184                       [writer]   \n",
       "52088                       [writer]   \n",
       "\n",
       "                                    known_for_titles  \n",
       "555925  [tt4099244, tt6417824, tt8200742, tt4600298]  \n",
       "21094   [tt0092875, tt0043580, tt0094100, tt0256385]  \n",
       "112096  [tt1874782, tt7370578, tt1598441, tt1118686]  \n",
       "80184   [tt0045675, tt0068832, tt0158510, tt5666304]  \n",
       "52088   [tt1163129, tt6168860, tt0112778, tt1753783]  "
      ]
     },
     "metadata": {},
     "output_type": "display_data"
    },
    {
     "data": {
      "text/html": [
       "<div>\n",
       "<style scoped>\n",
       "    .dataframe tbody tr th:only-of-type {\n",
       "        vertical-align: middle;\n",
       "    }\n",
       "\n",
       "    .dataframe tbody tr th {\n",
       "        vertical-align: top;\n",
       "    }\n",
       "\n",
       "    .dataframe thead th {\n",
       "        text-align: right;\n",
       "    }\n",
       "</style>\n",
       "<table border=\"1\" class=\"dataframe\">\n",
       "  <thead>\n",
       "    <tr style=\"text-align: right;\">\n",
       "      <th></th>\n",
       "      <th>nconst</th>\n",
       "      <th>primary_name</th>\n",
       "      <th>birth_year</th>\n",
       "      <th>death_year</th>\n",
       "      <th>primary_profession</th>\n",
       "      <th>known_for_titles</th>\n",
       "    </tr>\n",
       "  </thead>\n",
       "  <tbody>\n",
       "    <tr>\n",
       "      <th>606643</th>\n",
       "      <td>nm9990381</td>\n",
       "      <td>Susan Grobes</td>\n",
       "      <td>NaN</td>\n",
       "      <td>NaN</td>\n",
       "      <td>[actress]</td>\n",
       "      <td>NaN</td>\n",
       "    </tr>\n",
       "    <tr>\n",
       "      <th>606644</th>\n",
       "      <td>nm9990690</td>\n",
       "      <td>Joo Yeon So</td>\n",
       "      <td>NaN</td>\n",
       "      <td>NaN</td>\n",
       "      <td>[actress]</td>\n",
       "      <td>[tt9090932, tt8737130]</td>\n",
       "    </tr>\n",
       "    <tr>\n",
       "      <th>606645</th>\n",
       "      <td>nm9991320</td>\n",
       "      <td>Madeline Smith</td>\n",
       "      <td>NaN</td>\n",
       "      <td>NaN</td>\n",
       "      <td>[actress]</td>\n",
       "      <td>[tt8734436, tt9615610]</td>\n",
       "    </tr>\n",
       "    <tr>\n",
       "      <th>606646</th>\n",
       "      <td>nm9991786</td>\n",
       "      <td>Michelle Modigliani</td>\n",
       "      <td>NaN</td>\n",
       "      <td>NaN</td>\n",
       "      <td>[producer]</td>\n",
       "      <td>NaN</td>\n",
       "    </tr>\n",
       "    <tr>\n",
       "      <th>606647</th>\n",
       "      <td>nm9993380</td>\n",
       "      <td>Pegasus Envoyé</td>\n",
       "      <td>NaN</td>\n",
       "      <td>NaN</td>\n",
       "      <td>[director, actor, writer]</td>\n",
       "      <td>[tt8743182]</td>\n",
       "    </tr>\n",
       "  </tbody>\n",
       "</table>\n",
       "</div>"
      ],
      "text/plain": [
       "           nconst         primary_name  birth_year  death_year  \\\n",
       "606643  nm9990381         Susan Grobes         NaN         NaN   \n",
       "606644  nm9990690          Joo Yeon So         NaN         NaN   \n",
       "606645  nm9991320       Madeline Smith         NaN         NaN   \n",
       "606646  nm9991786  Michelle Modigliani         NaN         NaN   \n",
       "606647  nm9993380       Pegasus Envoyé         NaN         NaN   \n",
       "\n",
       "               primary_profession        known_for_titles  \n",
       "606643                  [actress]                     NaN  \n",
       "606644                  [actress]  [tt9090932, tt8737130]  \n",
       "606645                  [actress]  [tt8734436, tt9615610]  \n",
       "606646                 [producer]                     NaN  \n",
       "606647  [director, actor, writer]             [tt8743182]  "
      ]
     },
     "metadata": {},
     "output_type": "display_data"
    },
    {
     "data": {
      "text/html": [
       "<div>\n",
       "<style scoped>\n",
       "    .dataframe tbody tr th:only-of-type {\n",
       "        vertical-align: middle;\n",
       "    }\n",
       "\n",
       "    .dataframe tbody tr th {\n",
       "        vertical-align: top;\n",
       "    }\n",
       "\n",
       "    .dataframe thead th {\n",
       "        text-align: right;\n",
       "    }\n",
       "</style>\n",
       "<table border=\"1\" class=\"dataframe\">\n",
       "  <thead>\n",
       "    <tr style=\"text-align: right;\">\n",
       "      <th></th>\n",
       "      <th>nconst</th>\n",
       "      <th>primary_name</th>\n",
       "      <th>birth_year</th>\n",
       "      <th>death_year</th>\n",
       "      <th>primary_profession</th>\n",
       "      <th>known_for_titles</th>\n",
       "    </tr>\n",
       "  </thead>\n",
       "  <tbody>\n",
       "    <tr>\n",
       "      <th>41904</th>\n",
       "      <td>nm0653992</td>\n",
       "      <td>Ovid</td>\n",
       "      <td>NaN</td>\n",
       "      <td>17.0</td>\n",
       "      <td>[writer]</td>\n",
       "      <td>[tt3179572, tt0057818, tt0085182, tt3907210]</td>\n",
       "    </tr>\n",
       "    <tr>\n",
       "      <th>21094</th>\n",
       "      <td>nm0613556</td>\n",
       "      <td>Shikibu Murasaki</td>\n",
       "      <td>973.0</td>\n",
       "      <td>1031.0</td>\n",
       "      <td>[writer]</td>\n",
       "      <td>[tt0092875, tt0043580, tt0094100, tt0256385]</td>\n",
       "    </tr>\n",
       "    <tr>\n",
       "      <th>112096</th>\n",
       "      <td>nm0019604</td>\n",
       "      <td>Dante Alighieri</td>\n",
       "      <td>1265.0</td>\n",
       "      <td>1321.0</td>\n",
       "      <td>[writer, soundtrack]</td>\n",
       "      <td>[tt1874782, tt7370578, tt1598441, tt1118686]</td>\n",
       "    </tr>\n",
       "    <tr>\n",
       "      <th>80184</th>\n",
       "      <td>nm0090504</td>\n",
       "      <td>Giovanni Boccaccio</td>\n",
       "      <td>1313.0</td>\n",
       "      <td>1375.0</td>\n",
       "      <td>[writer]</td>\n",
       "      <td>[tt0045675, tt0068832, tt0158510, tt5666304]</td>\n",
       "    </tr>\n",
       "    <tr>\n",
       "      <th>52088</th>\n",
       "      <td>nm1063158</td>\n",
       "      <td>Cheng'en Wu</td>\n",
       "      <td>1506.0</td>\n",
       "      <td>1581.0</td>\n",
       "      <td>[writer]</td>\n",
       "      <td>[tt1163129, tt6168860, tt0112778, tt1753783]</td>\n",
       "    </tr>\n",
       "  </tbody>\n",
       "</table>\n",
       "</div>"
      ],
      "text/plain": [
       "           nconst        primary_name  birth_year  death_year  \\\n",
       "41904   nm0653992                Ovid         NaN        17.0   \n",
       "21094   nm0613556    Shikibu Murasaki       973.0      1031.0   \n",
       "112096  nm0019604     Dante Alighieri      1265.0      1321.0   \n",
       "80184   nm0090504  Giovanni Boccaccio      1313.0      1375.0   \n",
       "52088   nm1063158         Cheng'en Wu      1506.0      1581.0   \n",
       "\n",
       "          primary_profession                              known_for_titles  \n",
       "41904               [writer]  [tt3179572, tt0057818, tt0085182, tt3907210]  \n",
       "21094               [writer]  [tt0092875, tt0043580, tt0094100, tt0256385]  \n",
       "112096  [writer, soundtrack]  [tt1874782, tt7370578, tt1598441, tt1118686]  \n",
       "80184               [writer]  [tt0045675, tt0068832, tt0158510, tt5666304]  \n",
       "52088               [writer]  [tt1163129, tt6168860, tt0112778, tt1753783]  "
      ]
     },
     "metadata": {},
     "output_type": "display_data"
    }
   ],
   "source": [
    "# Print dataframes\n",
    "display(imdb_name.sort_values('birth_year').head())\n",
    "display(imdb_name.sort_values('birth_year').tail())\n",
    "display(imdb_name.sort_values('death_year').head())"
   ]
  },
  {
   "cell_type": "markdown",
   "metadata": {},
   "source": [
    "- `Michael Vignola`'s `birth_year` is wrong.\n",
    "- `Ovid` was a roman poet, it's `death_year` is okay. It's just a really old writer.\n",
    "\n",
    "#### What's the dataset?\n",
    "- `nconst`: Unique ID for a person (director, writer, actor, crew member)\n",
    "- `primary_name`: Name of the person\n",
    "- `birth_year`: Year in which the person was born (mostly null).\n",
    "- `death_year`: Year in which the person died (mostly null).\n",
    "- `primary_profession`: List of professions (some nulls).\n",
    "- `known_for_titles`: List of titles in which this individual is known for (some nulls).\n",
    "\n",
    "**Description:** List of people involved with movies and some information about them\n",
    "\n",
    "### IMDB Datasets - 'imdb.title.principals.csv'"
   ]
  },
  {
   "cell_type": "code",
   "execution_count": 21,
   "metadata": {},
   "outputs": [
    {
     "data": {
      "text/html": [
       "<div>\n",
       "<style scoped>\n",
       "    .dataframe tbody tr th:only-of-type {\n",
       "        vertical-align: middle;\n",
       "    }\n",
       "\n",
       "    .dataframe tbody tr th {\n",
       "        vertical-align: top;\n",
       "    }\n",
       "\n",
       "    .dataframe thead th {\n",
       "        text-align: right;\n",
       "    }\n",
       "</style>\n",
       "<table border=\"1\" class=\"dataframe\">\n",
       "  <thead>\n",
       "    <tr style=\"text-align: right;\">\n",
       "      <th></th>\n",
       "      <th>tconst</th>\n",
       "      <th>ordering</th>\n",
       "      <th>nconst</th>\n",
       "      <th>category</th>\n",
       "      <th>job</th>\n",
       "      <th>characters</th>\n",
       "    </tr>\n",
       "  </thead>\n",
       "  <tbody>\n",
       "    <tr>\n",
       "      <th>0</th>\n",
       "      <td>tt0111414</td>\n",
       "      <td>1</td>\n",
       "      <td>nm0246005</td>\n",
       "      <td>actor</td>\n",
       "      <td>NaN</td>\n",
       "      <td>[\"The Man\"]</td>\n",
       "    </tr>\n",
       "    <tr>\n",
       "      <th>1</th>\n",
       "      <td>tt0111414</td>\n",
       "      <td>2</td>\n",
       "      <td>nm0398271</td>\n",
       "      <td>director</td>\n",
       "      <td>NaN</td>\n",
       "      <td>NaN</td>\n",
       "    </tr>\n",
       "    <tr>\n",
       "      <th>2</th>\n",
       "      <td>tt0111414</td>\n",
       "      <td>3</td>\n",
       "      <td>nm3739909</td>\n",
       "      <td>producer</td>\n",
       "      <td>producer</td>\n",
       "      <td>NaN</td>\n",
       "    </tr>\n",
       "    <tr>\n",
       "      <th>3</th>\n",
       "      <td>tt0323808</td>\n",
       "      <td>10</td>\n",
       "      <td>nm0059247</td>\n",
       "      <td>editor</td>\n",
       "      <td>NaN</td>\n",
       "      <td>NaN</td>\n",
       "    </tr>\n",
       "    <tr>\n",
       "      <th>4</th>\n",
       "      <td>tt0323808</td>\n",
       "      <td>1</td>\n",
       "      <td>nm3579312</td>\n",
       "      <td>actress</td>\n",
       "      <td>NaN</td>\n",
       "      <td>[\"Beth Boothby\"]</td>\n",
       "    </tr>\n",
       "  </tbody>\n",
       "</table>\n",
       "</div>"
      ],
      "text/plain": [
       "      tconst  ordering     nconst  category       job        characters\n",
       "0  tt0111414         1  nm0246005     actor       NaN       [\"The Man\"]\n",
       "1  tt0111414         2  nm0398271  director       NaN               NaN\n",
       "2  tt0111414         3  nm3739909  producer  producer               NaN\n",
       "3  tt0323808        10  nm0059247    editor       NaN               NaN\n",
       "4  tt0323808         1  nm3579312   actress       NaN  [\"Beth Boothby\"]"
      ]
     },
     "execution_count": 21,
     "metadata": {},
     "output_type": "execute_result"
    }
   ],
   "source": [
    "# Read file and drop first column\n",
    "imdb_title_principals = pd.read_csv(unzipped_path + 'imdb.title.principals.csv')\n",
    "imdb_title_principals.drop(imdb_title_principals.columns[0], axis=1, inplace=True)\n",
    "imdb_title_principals.head()"
   ]
  },
  {
   "cell_type": "code",
   "execution_count": 22,
   "metadata": {},
   "outputs": [
    {
     "name": "stdout",
     "output_type": "stream",
     "text": [
      "<class 'pandas.core.frame.DataFrame'>\n",
      "RangeIndex: 1028186 entries, 0 to 1028185\n",
      "Data columns (total 6 columns):\n",
      " #   Column      Non-Null Count    Dtype \n",
      "---  ------      --------------    ----- \n",
      " 0   tconst      1028186 non-null  object\n",
      " 1   ordering    1028186 non-null  int64 \n",
      " 2   nconst      1028186 non-null  object\n",
      " 3   category    1028186 non-null  object\n",
      " 4   job         177684 non-null   object\n",
      " 5   characters  393360 non-null   object\n",
      "dtypes: int64(1), object(5)\n",
      "memory usage: 47.1+ MB\n"
     ]
    }
   ],
   "source": [
    "# Print info about columns\n",
    "imdb_title_principals.info()"
   ]
  },
  {
   "cell_type": "markdown",
   "metadata": {},
   "source": [
    "A lot of nulls in `job` and `characters`."
   ]
  },
  {
   "cell_type": "code",
   "execution_count": 23,
   "metadata": {},
   "outputs": [
    {
     "data": {
      "text/html": [
       "<div>\n",
       "<style scoped>\n",
       "    .dataframe tbody tr th:only-of-type {\n",
       "        vertical-align: middle;\n",
       "    }\n",
       "\n",
       "    .dataframe tbody tr th {\n",
       "        vertical-align: top;\n",
       "    }\n",
       "\n",
       "    .dataframe thead th {\n",
       "        text-align: right;\n",
       "    }\n",
       "</style>\n",
       "<table border=\"1\" class=\"dataframe\">\n",
       "  <thead>\n",
       "    <tr style=\"text-align: right;\">\n",
       "      <th></th>\n",
       "      <th>ordering</th>\n",
       "    </tr>\n",
       "  </thead>\n",
       "  <tbody>\n",
       "    <tr>\n",
       "      <th>count</th>\n",
       "      <td>1028186.0</td>\n",
       "    </tr>\n",
       "    <tr>\n",
       "      <th>mean</th>\n",
       "      <td>5.0</td>\n",
       "    </tr>\n",
       "    <tr>\n",
       "      <th>std</th>\n",
       "      <td>3.0</td>\n",
       "    </tr>\n",
       "    <tr>\n",
       "      <th>min</th>\n",
       "      <td>1.0</td>\n",
       "    </tr>\n",
       "    <tr>\n",
       "      <th>25%</th>\n",
       "      <td>2.0</td>\n",
       "    </tr>\n",
       "    <tr>\n",
       "      <th>50%</th>\n",
       "      <td>4.0</td>\n",
       "    </tr>\n",
       "    <tr>\n",
       "      <th>75%</th>\n",
       "      <td>7.0</td>\n",
       "    </tr>\n",
       "    <tr>\n",
       "      <th>max</th>\n",
       "      <td>10.0</td>\n",
       "    </tr>\n",
       "  </tbody>\n",
       "</table>\n",
       "</div>"
      ],
      "text/plain": [
       "        ordering\n",
       "count  1028186.0\n",
       "mean         5.0\n",
       "std          3.0\n",
       "min          1.0\n",
       "25%          2.0\n",
       "50%          4.0\n",
       "75%          7.0\n",
       "max         10.0"
      ]
     },
     "execution_count": 23,
     "metadata": {},
     "output_type": "execute_result"
    }
   ],
   "source": [
    "# Some stats on numeric columns\n",
    "imdb_title_principals.describe().round()"
   ]
  },
  {
   "cell_type": "markdown",
   "metadata": {},
   "source": [
    "What `ordering` means?"
   ]
  },
  {
   "cell_type": "code",
   "execution_count": 24,
   "metadata": {},
   "outputs": [
    {
     "data": {
      "text/html": [
       "<div>\n",
       "<style scoped>\n",
       "    .dataframe tbody tr th:only-of-type {\n",
       "        vertical-align: middle;\n",
       "    }\n",
       "\n",
       "    .dataframe tbody tr th {\n",
       "        vertical-align: top;\n",
       "    }\n",
       "\n",
       "    .dataframe thead th {\n",
       "        text-align: right;\n",
       "    }\n",
       "</style>\n",
       "<table border=\"1\" class=\"dataframe\">\n",
       "  <thead>\n",
       "    <tr style=\"text-align: right;\">\n",
       "      <th></th>\n",
       "      <th>tconst</th>\n",
       "      <th>ordering</th>\n",
       "      <th>nconst</th>\n",
       "      <th>category</th>\n",
       "      <th>job</th>\n",
       "      <th>characters</th>\n",
       "    </tr>\n",
       "  </thead>\n",
       "  <tbody>\n",
       "    <tr>\n",
       "      <th>983486</th>\n",
       "      <td>tt9916706</td>\n",
       "      <td>10</td>\n",
       "      <td>nm1432957</td>\n",
       "      <td>actor</td>\n",
       "      <td>NaN</td>\n",
       "      <td>NaN</td>\n",
       "    </tr>\n",
       "    <tr>\n",
       "      <th>927895</th>\n",
       "      <td>tt9916730</td>\n",
       "      <td>1</td>\n",
       "      <td>nm0059461</td>\n",
       "      <td>actor</td>\n",
       "      <td>NaN</td>\n",
       "      <td>NaN</td>\n",
       "    </tr>\n",
       "    <tr>\n",
       "      <th>927896</th>\n",
       "      <td>tt9916730</td>\n",
       "      <td>2</td>\n",
       "      <td>nm6096005</td>\n",
       "      <td>actor</td>\n",
       "      <td>NaN</td>\n",
       "      <td>NaN</td>\n",
       "    </tr>\n",
       "    <tr>\n",
       "      <th>927897</th>\n",
       "      <td>tt9916730</td>\n",
       "      <td>3</td>\n",
       "      <td>nm4852679</td>\n",
       "      <td>actor</td>\n",
       "      <td>NaN</td>\n",
       "      <td>NaN</td>\n",
       "    </tr>\n",
       "    <tr>\n",
       "      <th>927898</th>\n",
       "      <td>tt9916730</td>\n",
       "      <td>4</td>\n",
       "      <td>nm9050497</td>\n",
       "      <td>actor</td>\n",
       "      <td>NaN</td>\n",
       "      <td>NaN</td>\n",
       "    </tr>\n",
       "    <tr>\n",
       "      <th>927899</th>\n",
       "      <td>tt9916730</td>\n",
       "      <td>5</td>\n",
       "      <td>nm10538612</td>\n",
       "      <td>director</td>\n",
       "      <td>NaN</td>\n",
       "      <td>NaN</td>\n",
       "    </tr>\n",
       "    <tr>\n",
       "      <th>927900</th>\n",
       "      <td>tt9916730</td>\n",
       "      <td>6</td>\n",
       "      <td>nm10538614</td>\n",
       "      <td>producer</td>\n",
       "      <td>producer</td>\n",
       "      <td>NaN</td>\n",
       "    </tr>\n",
       "    <tr>\n",
       "      <th>927901</th>\n",
       "      <td>tt9916730</td>\n",
       "      <td>7</td>\n",
       "      <td>nm10538613</td>\n",
       "      <td>producer</td>\n",
       "      <td>associate producer</td>\n",
       "      <td>NaN</td>\n",
       "    </tr>\n",
       "    <tr>\n",
       "      <th>927902</th>\n",
       "      <td>tt9916730</td>\n",
       "      <td>8</td>\n",
       "      <td>nm1957275</td>\n",
       "      <td>cinematographer</td>\n",
       "      <td>NaN</td>\n",
       "      <td>NaN</td>\n",
       "    </tr>\n",
       "    <tr>\n",
       "      <th>927903</th>\n",
       "      <td>tt9916730</td>\n",
       "      <td>9</td>\n",
       "      <td>nm9785908</td>\n",
       "      <td>editor</td>\n",
       "      <td>NaN</td>\n",
       "      <td>NaN</td>\n",
       "    </tr>\n",
       "    <tr>\n",
       "      <th>879516</th>\n",
       "      <td>tt9916754</td>\n",
       "      <td>1</td>\n",
       "      <td>nm10538632</td>\n",
       "      <td>self</td>\n",
       "      <td>NaN</td>\n",
       "      <td>[\"Himself\"]</td>\n",
       "    </tr>\n",
       "    <tr>\n",
       "      <th>879517</th>\n",
       "      <td>tt9916754</td>\n",
       "      <td>2</td>\n",
       "      <td>nm3699941</td>\n",
       "      <td>self</td>\n",
       "      <td>NaN</td>\n",
       "      <td>[\"Himself\"]</td>\n",
       "    </tr>\n",
       "    <tr>\n",
       "      <th>879518</th>\n",
       "      <td>tt9916754</td>\n",
       "      <td>3</td>\n",
       "      <td>nm9813366</td>\n",
       "      <td>self</td>\n",
       "      <td>NaN</td>\n",
       "      <td>[\"Herself\"]</td>\n",
       "    </tr>\n",
       "    <tr>\n",
       "      <th>879519</th>\n",
       "      <td>tt9916754</td>\n",
       "      <td>4</td>\n",
       "      <td>nm8810966</td>\n",
       "      <td>self</td>\n",
       "      <td>NaN</td>\n",
       "      <td>[\"Himself\"]</td>\n",
       "    </tr>\n",
       "    <tr>\n",
       "      <th>879520</th>\n",
       "      <td>tt9916754</td>\n",
       "      <td>5</td>\n",
       "      <td>nm9272490</td>\n",
       "      <td>director</td>\n",
       "      <td>supervising director</td>\n",
       "      <td>NaN</td>\n",
       "    </tr>\n",
       "    <tr>\n",
       "      <th>879521</th>\n",
       "      <td>tt9916754</td>\n",
       "      <td>6</td>\n",
       "      <td>nm8349149</td>\n",
       "      <td>director</td>\n",
       "      <td>co-director</td>\n",
       "      <td>NaN</td>\n",
       "    </tr>\n",
       "    <tr>\n",
       "      <th>879522</th>\n",
       "      <td>tt9916754</td>\n",
       "      <td>7</td>\n",
       "      <td>nm9272489</td>\n",
       "      <td>cinematographer</td>\n",
       "      <td>NaN</td>\n",
       "      <td>NaN</td>\n",
       "    </tr>\n",
       "    <tr>\n",
       "      <th>879523</th>\n",
       "      <td>tt9916754</td>\n",
       "      <td>8</td>\n",
       "      <td>nm10538638</td>\n",
       "      <td>cinematographer</td>\n",
       "      <td>NaN</td>\n",
       "      <td>NaN</td>\n",
       "    </tr>\n",
       "    <tr>\n",
       "      <th>879524</th>\n",
       "      <td>tt9916754</td>\n",
       "      <td>9</td>\n",
       "      <td>nm10538635</td>\n",
       "      <td>cinematographer</td>\n",
       "      <td>NaN</td>\n",
       "      <td>NaN</td>\n",
       "    </tr>\n",
       "    <tr>\n",
       "      <th>879515</th>\n",
       "      <td>tt9916754</td>\n",
       "      <td>10</td>\n",
       "      <td>nm9275317</td>\n",
       "      <td>cinematographer</td>\n",
       "      <td>NaN</td>\n",
       "      <td>NaN</td>\n",
       "    </tr>\n",
       "  </tbody>\n",
       "</table>\n",
       "</div>"
      ],
      "text/plain": [
       "           tconst  ordering      nconst         category  \\\n",
       "983486  tt9916706        10   nm1432957            actor   \n",
       "927895  tt9916730         1   nm0059461            actor   \n",
       "927896  tt9916730         2   nm6096005            actor   \n",
       "927897  tt9916730         3   nm4852679            actor   \n",
       "927898  tt9916730         4   nm9050497            actor   \n",
       "927899  tt9916730         5  nm10538612         director   \n",
       "927900  tt9916730         6  nm10538614         producer   \n",
       "927901  tt9916730         7  nm10538613         producer   \n",
       "927902  tt9916730         8   nm1957275  cinematographer   \n",
       "927903  tt9916730         9   nm9785908           editor   \n",
       "879516  tt9916754         1  nm10538632             self   \n",
       "879517  tt9916754         2   nm3699941             self   \n",
       "879518  tt9916754         3   nm9813366             self   \n",
       "879519  tt9916754         4   nm8810966             self   \n",
       "879520  tt9916754         5   nm9272490         director   \n",
       "879521  tt9916754         6   nm8349149         director   \n",
       "879522  tt9916754         7   nm9272489  cinematographer   \n",
       "879523  tt9916754         8  nm10538638  cinematographer   \n",
       "879524  tt9916754         9  nm10538635  cinematographer   \n",
       "879515  tt9916754        10   nm9275317  cinematographer   \n",
       "\n",
       "                         job   characters  \n",
       "983486                   NaN          NaN  \n",
       "927895                   NaN          NaN  \n",
       "927896                   NaN          NaN  \n",
       "927897                   NaN          NaN  \n",
       "927898                   NaN          NaN  \n",
       "927899                   NaN          NaN  \n",
       "927900              producer          NaN  \n",
       "927901    associate producer          NaN  \n",
       "927902                   NaN          NaN  \n",
       "927903                   NaN          NaN  \n",
       "879516                   NaN  [\"Himself\"]  \n",
       "879517                   NaN  [\"Himself\"]  \n",
       "879518                   NaN  [\"Herself\"]  \n",
       "879519                   NaN  [\"Himself\"]  \n",
       "879520  supervising director          NaN  \n",
       "879521           co-director          NaN  \n",
       "879522                   NaN          NaN  \n",
       "879523                   NaN          NaN  \n",
       "879524                   NaN          NaN  \n",
       "879515                   NaN          NaN  "
      ]
     },
     "execution_count": 24,
     "metadata": {},
     "output_type": "execute_result"
    }
   ],
   "source": [
    "imdb_title_principals.sort_values(by=['tconst', 'ordering']).tail(20)"
   ]
  },
  {
   "cell_type": "markdown",
   "metadata": {},
   "source": [
    "It seems like the individuals linked to a title have some sort of order of importance. I checked a couple of `tconst` and usually the first person is an actress/actor, so it seems like it's order of importance.\n",
    "\n",
    "I'm curious to see if we have any strings we need to convert to lists."
   ]
  },
  {
   "cell_type": "code",
   "execution_count": 25,
   "metadata": {},
   "outputs": [
    {
     "name": "stdout",
     "output_type": "stream",
     "text": [
      "0\n",
      "195\n",
      "10567\n"
     ]
    }
   ],
   "source": [
    "print(imdb_title_principals['category'].str.contains(',').sum())\n",
    "print(imdb_title_principals['job'].str.contains(',').sum())\n",
    "print(imdb_title_principals['characters'].str.contains(',').sum())"
   ]
  },
  {
   "cell_type": "markdown",
   "metadata": {},
   "source": [
    "I guess you can have multiple `job`s and `characters` in the same movie (of course!). <br> I'm going to dig a bit more on these columns, trying to understand what they are."
   ]
  },
  {
   "cell_type": "code",
   "execution_count": 26,
   "metadata": {},
   "outputs": [
    {
     "data": {
      "text/html": [
       "<div>\n",
       "<style scoped>\n",
       "    .dataframe tbody tr th:only-of-type {\n",
       "        vertical-align: middle;\n",
       "    }\n",
       "\n",
       "    .dataframe tbody tr th {\n",
       "        vertical-align: top;\n",
       "    }\n",
       "\n",
       "    .dataframe thead th {\n",
       "        text-align: right;\n",
       "    }\n",
       "</style>\n",
       "<table border=\"1\" class=\"dataframe\">\n",
       "  <thead>\n",
       "    <tr style=\"text-align: right;\">\n",
       "      <th></th>\n",
       "      <th>tconst</th>\n",
       "      <th>ordering</th>\n",
       "      <th>nconst</th>\n",
       "      <th>category</th>\n",
       "      <th>job</th>\n",
       "      <th>characters</th>\n",
       "    </tr>\n",
       "  </thead>\n",
       "  <tbody>\n",
       "    <tr>\n",
       "      <th>88</th>\n",
       "      <td>tt0972848</td>\n",
       "      <td>2</td>\n",
       "      <td>nm2948834</td>\n",
       "      <td>actor</td>\n",
       "      <td>NaN</td>\n",
       "      <td>[\"Ernest Hemingway\",\"Elvis Presley\"]</td>\n",
       "    </tr>\n",
       "    <tr>\n",
       "      <th>89</th>\n",
       "      <td>tt0972848</td>\n",
       "      <td>3</td>\n",
       "      <td>nm2632648</td>\n",
       "      <td>actress</td>\n",
       "      <td>NaN</td>\n",
       "      <td>[\"Virginia Woolf\",\"Kick Kennedy\",\"Whistler's M...</td>\n",
       "    </tr>\n",
       "    <tr>\n",
       "      <th>90</th>\n",
       "      <td>tt0972848</td>\n",
       "      <td>4</td>\n",
       "      <td>nm1991922</td>\n",
       "      <td>actor</td>\n",
       "      <td>NaN</td>\n",
       "      <td>[\"Jimi Hendrix\",\"Ralph Ellison\",\"Rubin 'Hurric...</td>\n",
       "    </tr>\n",
       "    <tr>\n",
       "      <th>94</th>\n",
       "      <td>tt0972848</td>\n",
       "      <td>8</td>\n",
       "      <td>nm2043907</td>\n",
       "      <td>actor</td>\n",
       "      <td>NaN</td>\n",
       "      <td>[\"William Shakespeare\",\"James Joyce\",\"Wordswor...</td>\n",
       "    </tr>\n",
       "    <tr>\n",
       "      <th>95</th>\n",
       "      <td>tt0972848</td>\n",
       "      <td>9</td>\n",
       "      <td>nm1122102</td>\n",
       "      <td>actor</td>\n",
       "      <td>NaN</td>\n",
       "      <td>[\"Edgar Allan Poe\",\"Bob Dylan\",\"Snopes\"]</td>\n",
       "    </tr>\n",
       "  </tbody>\n",
       "</table>\n",
       "</div>"
      ],
      "text/plain": [
       "       tconst  ordering     nconst category  job  \\\n",
       "88  tt0972848         2  nm2948834    actor  NaN   \n",
       "89  tt0972848         3  nm2632648  actress  NaN   \n",
       "90  tt0972848         4  nm1991922    actor  NaN   \n",
       "94  tt0972848         8  nm2043907    actor  NaN   \n",
       "95  tt0972848         9  nm1122102    actor  NaN   \n",
       "\n",
       "                                           characters  \n",
       "88               [\"Ernest Hemingway\",\"Elvis Presley\"]  \n",
       "89  [\"Virginia Woolf\",\"Kick Kennedy\",\"Whistler's M...  \n",
       "90  [\"Jimi Hendrix\",\"Ralph Ellison\",\"Rubin 'Hurric...  \n",
       "94  [\"William Shakespeare\",\"James Joyce\",\"Wordswor...  \n",
       "95           [\"Edgar Allan Poe\",\"Bob Dylan\",\"Snopes\"]  "
      ]
     },
     "execution_count": 26,
     "metadata": {},
     "output_type": "execute_result"
    }
   ],
   "source": [
    "# Check records with commas\n",
    "imdb_title_principals[imdb_title_principals['characters'].astype(str).str.contains(',')].head()"
   ]
  },
  {
   "cell_type": "code",
   "execution_count": 27,
   "metadata": {},
   "outputs": [
    {
     "data": {
      "text/html": [
       "<div>\n",
       "<style scoped>\n",
       "    .dataframe tbody tr th:only-of-type {\n",
       "        vertical-align: middle;\n",
       "    }\n",
       "\n",
       "    .dataframe tbody tr th {\n",
       "        vertical-align: top;\n",
       "    }\n",
       "\n",
       "    .dataframe thead th {\n",
       "        text-align: right;\n",
       "    }\n",
       "</style>\n",
       "<table border=\"1\" class=\"dataframe\">\n",
       "  <thead>\n",
       "    <tr style=\"text-align: right;\">\n",
       "      <th></th>\n",
       "      <th>job</th>\n",
       "    </tr>\n",
       "  </thead>\n",
       "  <tbody>\n",
       "    <tr>\n",
       "      <th>5221</th>\n",
       "      <td>story, screenplay and dialogue</td>\n",
       "    </tr>\n",
       "    <tr>\n",
       "      <th>5222</th>\n",
       "      <td>story, screenplay and dialogue</td>\n",
       "    </tr>\n",
       "    <tr>\n",
       "      <th>15360</th>\n",
       "      <td>scenario, adaptation and dialogue</td>\n",
       "    </tr>\n",
       "    <tr>\n",
       "      <th>15712</th>\n",
       "      <td>based on a radio story from WBEZ's This Americ...</td>\n",
       "    </tr>\n",
       "    <tr>\n",
       "      <th>15713</th>\n",
       "      <td>based on a radio story from WBEZ's This Americ...</td>\n",
       "    </tr>\n",
       "    <tr>\n",
       "      <th>24594</th>\n",
       "      <td>scenario, adaptation and dialogue</td>\n",
       "    </tr>\n",
       "    <tr>\n",
       "      <th>25823</th>\n",
       "      <td>Additional Dialogue, English Language Adaptation</td>\n",
       "    </tr>\n",
       "    <tr>\n",
       "      <th>33178</th>\n",
       "      <td>writer: narration, soap film</td>\n",
       "    </tr>\n",
       "    <tr>\n",
       "      <th>36985</th>\n",
       "      <td>based on the book 'Teenage: The Creation of Yo...</td>\n",
       "    </tr>\n",
       "    <tr>\n",
       "      <th>38440</th>\n",
       "      <td>story, screenplay and dialogue</td>\n",
       "    </tr>\n",
       "  </tbody>\n",
       "</table>\n",
       "</div>"
      ],
      "text/plain": [
       "                                                     job\n",
       "5221                      story, screenplay and dialogue\n",
       "5222                      story, screenplay and dialogue\n",
       "15360                  scenario, adaptation and dialogue\n",
       "15712  based on a radio story from WBEZ's This Americ...\n",
       "15713  based on a radio story from WBEZ's This Americ...\n",
       "24594                  scenario, adaptation and dialogue\n",
       "25823   Additional Dialogue, English Language Adaptation\n",
       "33178                       writer: narration, soap film\n",
       "36985  based on the book 'Teenage: The Creation of Yo...\n",
       "38440                     story, screenplay and dialogue"
      ]
     },
     "execution_count": 27,
     "metadata": {},
     "output_type": "execute_result"
    }
   ],
   "source": [
    "# Check records with commas\n",
    "imdb_title_principals[imdb_title_principals['job'].astype(str).str.contains(',')][['job']].head(10)"
   ]
  },
  {
   "cell_type": "markdown",
   "metadata": {},
   "source": [
    "I was thinking about parsing `job` and create lists with roles but the field is not consistent. <br> My assumption was that the column had records with several roles separated by comma. However, it's possible to see a small description of the movie and colon. I'm going ot leave it as it is.\n",
    "\n",
    "#### What's the dataset?\n",
    "- `tconst`: Unique ID for titles\n",
    "- `ordering`: Order of importance of individuals in a movie (my guess).\n",
    "- `nconst`: Unique ID for a person (director, writer, actor, crew member)\n",
    "- `category`: Individual's role in the movie.\n",
    "- `job`: A little description or more details about the person/role/movie.\n",
    "- `characters`: List of characters that the individual will play on the movie (it can be multiple).\n",
    "\n",
    "**Definition:** List of Titles with individuals that worked on it, their roles and No. of importance.\n",
    "\n",
    "### IMDB Datasets - 'imdb.title.akas.csv'"
   ]
  },
  {
   "cell_type": "code",
   "execution_count": null,
   "metadata": {},
   "outputs": [],
   "source": [
    "# Read file and drop first column\n",
    "imdb_title_akas = pd.read_csv(unzipped_path + 'imdb.title.akas.csv')\n",
    "imdb_title_akas.drop(imdb_title_akas.columns[0], axis=1, inplace=True)\n",
    "imdb_title_akas.head()"
   ]
  },
  {
   "cell_type": "code",
   "execution_count": null,
   "metadata": {},
   "outputs": [],
   "source": [
    "imdb_title_akas.info()"
   ]
  },
  {
   "cell_type": "markdown",
   "metadata": {},
   "source": [
    "Empty records on `region`, `language`, `types`, `attributes` and `is_original_title`.\n",
    "\n",
    "I'm curious to see what the `ordering` column represents here."
   ]
  },
  {
   "cell_type": "code",
   "execution_count": null,
   "metadata": {},
   "outputs": [],
   "source": [
    "imdb_title_akas.sort_values(['title_id', 'ordering']).head(10)"
   ]
  },
  {
   "cell_type": "markdown",
   "metadata": {},
   "source": [
    "I'm not sure how the order is set, but I'd think that the original title would be the first.\n",
    "\n",
    "Well, lets move on, `is_original_title` should be a boolean column. Let's take care of that."
   ]
  },
  {
   "cell_type": "code",
   "execution_count": null,
   "metadata": {},
   "outputs": [],
   "source": [
    "# Check unique values for the column\n",
    "print(imdb_title_akas['is_original_title'].unique())\n",
    "\n",
    "# My first instinct is to consider 'nulls' as False, but let's look at the records before doing anything\n",
    "imdb_title_akas[imdb_title_akas['is_original_title'].isnull()].head(10)"
   ]
  },
  {
   "cell_type": "markdown",
   "metadata": {},
   "source": [
    "We are safe to move forward and convert nulls into `False` records."
   ]
  },
  {
   "cell_type": "code",
   "execution_count": null,
   "metadata": {},
   "outputs": [],
   "source": [
    "# Convert to boolean\n",
    "imdb_title_akas.loc[imdb_title_akas['is_original_title'] != 1, 'is_original_title'] = False\n",
    "imdb_title_akas.loc[imdb_title_akas['is_original_title'] == 1, 'is_original_title'] = True"
   ]
  },
  {
   "cell_type": "markdown",
   "metadata": {},
   "source": [
    "Let's see what `types` is about."
   ]
  },
  {
   "cell_type": "code",
   "execution_count": null,
   "metadata": {},
   "outputs": [],
   "source": [
    "imdb_title_akas['types'].unique()"
   ]
  },
  {
   "cell_type": "markdown",
   "metadata": {},
   "source": [
    "It adds more context to the title. I wonder what else we can get out of `attributes`."
   ]
  },
  {
   "cell_type": "code",
   "execution_count": null,
   "metadata": {},
   "outputs": [],
   "source": [
    "imdb_title_akas['attributes'].unique()"
   ]
  },
  {
   "cell_type": "markdown",
   "metadata": {},
   "source": [
    "Oh `attributes` provide more meaningful information about the title.\n",
    "\n",
    "#### What's the dataset?\n",
    "- `title_id`: Unique ID for titles\n",
    "- `ordering`: Order of titles (not sure what defines the order)\n",
    "- `title`: Title for a movie in different languages/types.\n",
    "- `region`: Region where the Title was utilized.\n",
    "- `language`: Language of title.\n",
    "- `types`: Some context about the Title. It's the title type.\n",
    "- `attributes`: Provides even more context about Title, with more detailed information.\n",
    "\n",
    "**Description:** List of different Titles for the same movie and some information/context about each.\n",
    "\n",
    "### IMDB Datasets - 'imdb.title.basics.csv'"
   ]
  },
  {
   "cell_type": "code",
   "execution_count": null,
   "metadata": {},
   "outputs": [],
   "source": [
    "# Read file and drop first column\n",
    "imdb_title_basics = pd.read_csv(unzipped_path + 'imdb.title.basics.csv')\n",
    "imdb_title_basics.drop(imdb_title_basics.columns[0], axis=1, inplace=True)\n",
    "imdb_title_basics.head()"
   ]
  },
  {
   "cell_type": "markdown",
   "metadata": {},
   "source": [
    "It seems like this one contains the Primary and Original title of each movie + extra information. <br> I wonder if we have the same move multiple times."
   ]
  },
  {
   "cell_type": "code",
   "execution_count": null,
   "metadata": {},
   "outputs": [],
   "source": [
    "imdb_title_basics.groupby('tconst').count()['primary_title'].sort_values(ascending=False).head()"
   ]
  },
  {
   "cell_type": "markdown",
   "metadata": {},
   "source": [
    "No, it's unique. Great!\n",
    "\n",
    "Now let's print `.info()` on the dataframe"
   ]
  },
  {
   "cell_type": "code",
   "execution_count": null,
   "metadata": {},
   "outputs": [],
   "source": [
    "imdb_title_basics.info()"
   ]
  },
  {
   "cell_type": "markdown",
   "metadata": {},
   "source": [
    "`original_title` and `genre` are most of the time available. However, we miss the `runtime_minutes` of some movies.\n",
    "\n",
    "Let's get some basic stats on the dataframe."
   ]
  },
  {
   "cell_type": "code",
   "execution_count": null,
   "metadata": {},
   "outputs": [],
   "source": [
    "imdb_title_basics.describe()"
   ]
  },
  {
   "cell_type": "markdown",
   "metadata": {},
   "source": [
    "Runtime of 51k minutes and a `start_year` in the future? That seems off, let's check these numbers out!"
   ]
  },
  {
   "cell_type": "code",
   "execution_count": null,
   "metadata": {},
   "outputs": [],
   "source": [
    "imdb_title_basics.sort_values('runtime_minutes', ascending=False).head()"
   ]
  },
  {
   "cell_type": "markdown",
   "metadata": {},
   "source": [
    "Oh WOW! That's actually correct! It's the longest movie ever made at 857 hours! <br> Despite how interesting this is, I'm going to make sure I take this into consideration when/if analyzing `runtime_minutes` since this outlier might throw off some of my analysis."
   ]
  },
  {
   "cell_type": "code",
   "execution_count": null,
   "metadata": {},
   "outputs": [],
   "source": [
    "imdb_title_basics.sort_values('start_year', ascending=False).head()"
   ]
  },
  {
   "cell_type": "markdown",
   "metadata": {},
   "source": [
    "The `start_year` of the movie '100 Years' is correct. That's really interesting and it's also good to know that the dataset is accurate.\n",
    "\n",
    "Well, let's move forward and convert the `genres` column from `str` to `list`."
   ]
  },
  {
   "cell_type": "code",
   "execution_count": null,
   "metadata": {},
   "outputs": [],
   "source": [
    "imdb_title_basics['genres'] = imdb_title_basics['genres'].apply(convert_to_list)"
   ]
  },
  {
   "cell_type": "markdown",
   "metadata": {},
   "source": [
    "#### What's the dataset?\n",
    "- `tconst`: Unique ID for titles\n",
    "- `primary_title`: Movie Primary Title.\n",
    "- `original_ttile`: Original Title (sometimes different from primary)\n",
    "- `start_year`: Year in which the movie will start to be produced.\n",
    "- `runtime_minutes`: Movie's length (in minutes).\n",
    "- `genres`: List with Genre(s).\n",
    "\n",
    "**Definition:** List of movies with some more extra information about them.\n",
    "\n",
    "[Go Back to Table of Contents](#toc)\n",
    "# Analysis <a class=\"anchor\" id=\"analysis\"></a>\n",
    "-------------------\n",
    "\n",
    "**Files I'm going to work with:**\n",
    "- `imdb.title.crew.csv` - List of movies with Directors and Writers.\n",
    "- `imdb.title.ratings.csv` - List of people involved with movies and some information about them\n",
    "- `imdb.name.basics.csv` - List of people involved with movies and some information about them\n",
    "- `imdb.title.principals.csv` - List of Titles with individuals that worked on it, their roles and No. of importance.\n",
    "- `imdb.title.akas.csv` - List of different Titles for the same movie and some information about each.\n",
    "- `imdb.title.basics.csv` - List of movies with some more extra information about them."
   ]
  },
  {
   "cell_type": "code",
   "execution_count": null,
   "metadata": {},
   "outputs": [],
   "source": [
    "# Let's look at the total numbe rof movies we have\n",
    "print('Total of ' + str(len(imdb_title_basics)) + ' movies.')"
   ]
  },
  {
   "cell_type": "markdown",
   "metadata": {},
   "source": [
    "Let's start by looking at the distribution of this dataset by `start_year`"
   ]
  },
  {
   "cell_type": "code",
   "execution_count": null,
   "metadata": {},
   "outputs": [],
   "source": [
    "imdb_title_basics.head()"
   ]
  },
  {
   "cell_type": "code",
   "execution_count": null,
   "metadata": {},
   "outputs": [],
   "source": [
    "def barplot_count(df, x, xlabel, ylabel, title, explode=True, xticks_rotation=False, sort_values=False):\n",
    "    \"\"\"Creates Bar Chart showing the No. of Movies and lets the user choose the labels, \n",
    "    title and x-axis.\n",
    "\n",
    "    Args:\n",
    "      df(pd.Dataframe): Pandas Dataframe with movie information\n",
    "      x(str): X-Axis of chart\n",
    "      xlabel(str): X-Axis Label\n",
    "      ylabel(str): Y-Axis Label\n",
    "      title(str): Chart Title\n",
    "      explode(bool): Informs the function whether genres are grouped or not\n",
    "      xticks_rotation(bool): Option to rotate xticks 90 degrees (Default is False)\n",
    "      sort_values(bool): Option to sort values and plot sorted data (Default is False)\n",
    "\n",
    "    Returns:\n",
    "      Bar Plot.\n",
    "    \"\"\"\n",
    "    # Create copy of dataframe\n",
    "    to_plot = df.copy()\n",
    "    \n",
    "    # Check if we want to separate genres\n",
    "    if explode == True:\n",
    "        to_plot = to_plot.explode('genres')\n",
    "    else:\n",
    "        to_plot['genres'] = to_plot['genres'].str.join(\", \")\n",
    "    \n",
    "    # Create new dataframe to plot, group data by 'x' and count number of movies.\n",
    "    to_plot = to_plot.groupby(x).size().reset_index()\n",
    "    \n",
    "    # Rename columns\n",
    "    to_plot.columns = [x, 'count']\n",
    "    \n",
    "    # Sort by count and keep only top 20 genres\n",
    "    if sort_values == True:\n",
    "        to_plot = to_plot.sort_values('count', ascending=False)\n",
    "        to_plot = to_plot.head(20)\n",
    "    \n",
    "    # Create figure and axes\n",
    "    fig, ax = plt.subplots(figsize=(16,6))\n",
    "    \n",
    "    # Set style and create chart\n",
    "    sns.set_style('darkgrid')\n",
    "    sns.barplot(x=x, y=\"count\", data=to_plot, ax=ax)\n",
    "    \n",
    "    # Set title, labels and ticks size\n",
    "    plt.title(title, size=16)\n",
    "    plt.xticks(fontsize=14)\n",
    "    plt.yticks(fontsize=14)\n",
    "    plt.ylabel(ylabel, fontsize=15)\n",
    "    plt.xlabel(xlabel, fontsize=15)\n",
    "    \n",
    "    if xticks_rotation == True:\n",
    "        plt.xticks(rotation=90)\n",
    "\n",
    "    plt.show();"
   ]
  },
  {
   "cell_type": "markdown",
   "metadata": {},
   "source": [
    "[Go Back to Table of Contents](#toc)\n",
    "# First Question: Is the number of new movies growing over time? <a class=\"anchor\" id=\"first-question\"></a>\n",
    "-------------------\n",
    "We must understand whether this is a market that is producing more and more content over time.\n",
    "\n",
    "If Microsoft is thinking about entering the Film Industry, this question will give a good understanding of **whether it's a growing industry** and if there's **a lot of competition**. It's expected that if the **supply of movies is increasing**, the **demand is going in the same direction**, so it's probably a good market to enter.\n",
    "\n",
    "### No. of Movies Overtime"
   ]
  },
  {
   "cell_type": "code",
   "execution_count": null,
   "metadata": {},
   "outputs": [],
   "source": [
    "barplot_count(imdb_title_basics, \n",
    "              explode=False,\n",
    "              x='start_year', \n",
    "              xlabel='Movie Start Year', \n",
    "              ylabel='No. of Movies', \n",
    "              title='Number of Movies Overtime')"
   ]
  },
  {
   "cell_type": "markdown",
   "metadata": {},
   "source": [
    "## Answer:\n",
    "> The supply of new movies is increasing over the years. So it's a growing market but with a lot of competition.\n",
    "\n",
    "Also, because of the drop in 2018, it seems like the dataset was extracted in 18. It would be great to know that, however, this information is not available.\n",
    "\n",
    "[Go Back to Table of Contents](#toc)\n",
    "# Second Question: Which `genres` have the most movies? <a class=\"anchor\" id=\"second-question\"></a>\n",
    "-------------------\n",
    "With this question, we can understand a bit more about the demand. I'd believe that producers would not create movies of `genres` that are not popular. <br>Having this information would also help Microsoft to understand the market and start thinking about which strategy to apply (compete with the popular genres or focus on other/not so saturated genres).\n",
    "\n",
    "### Distribution of No. of Movies by `genres` (All-Time)\n",
    "I'm also separating genres from lists, meaning that I have one genre per row, so if one movie has two genres then we will see two records, one for each genre"
   ]
  },
  {
   "cell_type": "code",
   "execution_count": null,
   "metadata": {},
   "outputs": [],
   "source": [
    "barplot_count(imdb_title_basics,\n",
    "              explode=True,\n",
    "              x='genres', \n",
    "              xlabel='Genres', \n",
    "              ylabel='No. of Movies', \n",
    "              title='Distribution of Number of Movies by Genre',\n",
    "              xticks_rotation=True,\n",
    "              sort_values=True)"
   ]
  },
  {
   "cell_type": "markdown",
   "metadata": {},
   "source": [
    "Now I'm not separating them by row, so we will see the combinations of genres as well."
   ]
  },
  {
   "cell_type": "code",
   "execution_count": null,
   "metadata": {},
   "outputs": [],
   "source": [
    "barplot_count(imdb_title_basics, \n",
    "              explode=False,\n",
    "              x='genres', \n",
    "              xlabel='Genres', \n",
    "              ylabel='No. of Movies', \n",
    "              title='Distribution of Number of Movies by Genre',\n",
    "              xticks_rotation=True,\n",
    "              sort_values=True)"
   ]
  },
  {
   "cell_type": "markdown",
   "metadata": {},
   "source": [
    "## Answer:\n",
    "> It's interesting to see that most of the movies are Documentaries, Drama, or Comedy. So maybe if Microsoft's strategy is to enter a not so saturated `genre`, then avoiding Documentaries and Drama movies would be a good idea. On the other hand, I'm surprised to see `Documentary` as the one with most movies, but that might be the case because most of these are not created with a monetary goal, and I'd also think that probably Microsoft would not have as its first movie a Documentary. \n",
    "\n",
    "[Go Back to Table of Contents](#toc)\n",
    "# Third Question: Which `genres` have consistently had the most No. of movies over time? <a class=\"anchor\" id=\"third-question\"></a>\n",
    "-------------------\n",
    "With this question, I can find trends of `genres` that are becoming more popular over time and maybe suggest Microsoft follow the same trends.\n",
    "\n",
    "### Distribution of No. of Movies by `genres` over the years.\n",
    "\n",
    "First, I need to see the total count of Movies by `start_year` and `genres`. Here, I'm also separating all genres in different rows. I noticed that some movies have multiple genres, but I'm trying to identify which one genre is more popular in this analysis."
   ]
  },
  {
   "cell_type": "code",
   "execution_count": null,
   "metadata": {},
   "outputs": [],
   "source": [
    "# Group data by 'start_year' and 'genres', separate genres and let's see the Number of Movies by Year and Genre\n",
    "year_genre = imdb_title_basics.explode('genres').groupby(['start_year', 'genres']).count()['tconst'].reset_index()\n",
    "year_genre.columns = ['start_year', 'genres', 'count']\n",
    "year_genre.head()"
   ]
  },
  {
   "cell_type": "markdown",
   "metadata": {},
   "source": [
    "Since the No. of Movies drastically goes down in 2020, I'm going to keep data only until 2020."
   ]
  },
  {
   "cell_type": "code",
   "execution_count": null,
   "metadata": {},
   "outputs": [],
   "source": [
    "year_genre = year_genre[year_genre['start_year'] < 2020]"
   ]
  },
  {
   "cell_type": "markdown",
   "metadata": {},
   "source": [
    "Next, instead of plotting on the total count of movies, I'm going to create a rank based on No. of movies, so we can easily visualize the `genres` is our chart and avoid having a few isolated at the top/bottom."
   ]
  },
  {
   "cell_type": "code",
   "execution_count": null,
   "metadata": {},
   "outputs": [],
   "source": [
    "# Group by year and rank the 'count' column\n",
    "year_genre['rank'] = year_genre.groupby(['start_year'])['count'].rank(\"dense\", ascending=False)\n",
    "\n",
    "# Keep only Top 5 genres by year\n",
    "year_genre = year_genre[year_genre['rank'] < 6]\n",
    "year_genre.head()"
   ]
  },
  {
   "cell_type": "markdown",
   "metadata": {},
   "source": [
    "Finally, let's get ready to plot this. In order to achieve the chart I want, I'm going to pivot the data"
   ]
  },
  {
   "cell_type": "code",
   "execution_count": null,
   "metadata": {},
   "outputs": [],
   "source": [
    "to_plot = pd.pivot_table(year_genre, values='rank', index='start_year', columns=['genres'], aggfunc=np.sum)\n",
    "to_plot"
   ]
  },
  {
   "cell_type": "markdown",
   "metadata": {},
   "source": [
    "Now it's time to plot!"
   ]
  },
  {
   "cell_type": "code",
   "execution_count": null,
   "metadata": {},
   "outputs": [],
   "source": [
    "# Create list with y ticks (I don't need decimals on my chart)\n",
    "yticks = list(range(6))\n",
    "xticks = list(range(2010,2020,1))\n",
    "\n",
    "# Create figure\n",
    "to_plot.plot(figsize=(13,5))\n",
    "\n",
    "# Invert y-axis so we have No. 1 on the top and 5 at the bottom\n",
    "plt.gca().invert_yaxis()\n",
    "\n",
    "# Set Axis Labels\n",
    "plt.xlabel('Start Year', fontsize=15)\n",
    "plt.ylabel('Rank (in No. of Movies)', fontsize=15)\n",
    "\n",
    "# Set Ticks size\n",
    "plt.xticks(xticks, fontsize=14)\n",
    "plt.yticks(yticks, fontsize=14)\n",
    "\n",
    "# Add margin so y doesn't start at 0\n",
    "plt.margins(y=0.1)\n",
    "\n",
    "# Add Title and legend outside the chart\n",
    "plt.title('Top 5 Genres by No. of Movies Overtime', fontsize=16)\n",
    "plt.legend(bbox_to_anchor=(1.02, 1), fontsize=15)\n",
    "\n",
    "plt.show();"
   ]
  },
  {
   "cell_type": "markdown",
   "metadata": {},
   "source": [
    "# Answer 1:\n",
    "> It seems like `Drama` has become more prevalent in 2018, and it's still sustaining the first position in 2019. Interestingly, `Thriller` and `Horror` have become consistent fourth/fifth places since 2015, and `Comedy` held the third position since the beginning of our dataset. This chart will clarify Microsoft's team on which `genres` are the most popular and might help them decide which genre they should choose. Also confirms the conclusion we had before that `Documentary`, `Drama` and `Comedy` are the most popular genres.\n",
    "\n",
    "### Same analysis, but keeping list of `genres` intact.\n",
    "In the previous analysis I'm separating genres in different rows, so we have only one genre per row. Next, I'm going to keep the combination of different `genres` intact."
   ]
  },
  {
   "cell_type": "code",
   "execution_count": null,
   "metadata": {},
   "outputs": [],
   "source": [
    "# Let's create a copy of the DataFrame, I want to keep the original intact. Also, only records previous to 2020\n",
    "genres_combination = imdb_title_basics[imdb_title_basics['start_year'] < 2020]\n",
    "\n",
    "# Create a string column of 'genres' by concatenating them and remove movies with no genre\n",
    "genres_combination['genres_combination'] = genres_combination['genres'].str.join(\", \")\n",
    "genres_combination = genres_combination[genres_combination['genres_combination'].isnull() == False]\n",
    "\n",
    "# Create column with number of genres\n",
    "genres_combination['no_of_genres'] = genres_combination['genres'].apply(lambda x: len(x))"
   ]
  },
  {
   "cell_type": "code",
   "execution_count": null,
   "metadata": {},
   "outputs": [],
   "source": [
    "# I'm going to count the number of movies by 'start_year', 'genres_combination' and 'no_of_genres'\n",
    "combination_count = genres_combination.groupby(['start_year', 'genres_combination', 'no_of_genres']).size().reset_index()\n",
    "combination_count.columns = ['start_year', 'genres_combination', 'no_of_genres', 'count']\n",
    "\n",
    "# Let's create the ranking of those categories based on the total No. of Movies\n",
    "combination_count['rank'] = combination_count.groupby(['start_year', 'no_of_genres'])['count'].rank(\"dense\", ascending=False)\n",
    "\n",
    "# Keep only top 5\n",
    "combination_count = combination_count[combination_count['rank'] < 6]\n",
    "combination_count.head()"
   ]
  },
  {
   "cell_type": "markdown",
   "metadata": {},
   "source": [
    "My idea for visualization is to plot the same chart we have above, since I'm going to do this multiple times, a function comes in handy."
   ]
  },
  {
   "cell_type": "code",
   "execution_count": null,
   "metadata": {},
   "outputs": [],
   "source": [
    "def plot_top_5(df, no_of_genres):\n",
    "    \"\"\"Creates chart with Top 5 genres based on the number of elements/genres in list of genres.\n",
    "\n",
    "    Args:\n",
    "      df(pd.Dataframe): Pandas Dataframe with movie information\n",
    "      no_of_genres(int): No. of genres a combination needs to have\n",
    "\n",
    "    Returns:\n",
    "      Plot\n",
    "    \"\"\"\n",
    "    # Create Pivot table of dataframe and filter based on no_of_genres\n",
    "    to_plot = pd.pivot_table(df[df['no_of_genres'] == no_of_genres], values='rank', index='start_year', columns=['genres_combination'], aggfunc=np.sum)\n",
    "    \n",
    "    # Create list with y ticks (I don't need decimals on my chart)\n",
    "    yticks = list(range(6))\n",
    "    xticks = list(range(2010,2020,1))\n",
    "\n",
    "    # Create figure\n",
    "    to_plot.plot(figsize=(11,5))\n",
    "\n",
    "    # Invert y-axis so we have No. 1 on the top and 5 at the bottom\n",
    "    plt.gca().invert_yaxis()\n",
    "\n",
    "    # Set Axis Labels\n",
    "    plt.xlabel('Start Year', fontsize=15)\n",
    "    plt.ylabel('Rank (in No. of Movies)', fontsize=15)\n",
    "\n",
    "    # Set Ticks size\n",
    "    plt.xticks(xticks, fontsize=14)\n",
    "    plt.yticks(yticks, fontsize=14)\n",
    "\n",
    "    # Add margin so y doesn't start at 0\n",
    "    plt.margins(y=0.1)\n",
    "\n",
    "    # Add Title and legend outside the chart\n",
    "    plt.title('Top 5 Genres by No. of Movies Overtime (Incl. Movies with ' + str(no_of_genres) + ' genres)', fontsize=16)\n",
    "    plt.legend(bbox_to_anchor=(1.02, 1), fontsize=15)\n",
    "\n",
    "    plt.show();"
   ]
  },
  {
   "cell_type": "code",
   "execution_count": null,
   "metadata": {},
   "outputs": [],
   "source": [
    "# Plot Top Genres with 1, 2 and 3 genres\n",
    "for no_of_genres in [1,2,3]:\n",
    "    plot_top_5(combination_count, no_of_genres)"
   ]
  },
  {
   "cell_type": "markdown",
   "metadata": {},
   "source": [
    "# Answer 2:\n",
    "> By looking at movies with only one genre, we get the same conclusions we had before. However, when looking at combinations of genres, we find many `Comedy + Drama` and `Comedy + Drama + Romance`. Also we see the rise of `Drama + Romance` and `Action + Crime + Drama`.\n",
    "\n",
    "[Go Back to Table of Contents](#toc)\n",
    "# Fourth Question: What are the best/most rated `genres`? <a class=\"anchor\" id=\"fourth-question\"></a>\n",
    "-------------------\n",
    "So far, I have done most of my analysis using No. of Movies. This time, I'm going to use No. of Votes. <br> I think that Ratings/Number of Votes can be more meaningful because **the act of voting requires someone to go to IMDB.com, search for the movie, and vote.** Therefore, I'd say that it gives us a **good understanding of the market from the consumers' standpoint**. Also, **if someone voted, it's because they watched the film, so the number carries more meaning.** <br>Therefore, by asking this question, we get a different perspective on `genres` and a **good idea of which one would have a higher chance of success.**\n",
    "\n",
    "### Popularity by Ratings\n",
    "So the next step is to look at the most popular (in No. of Votes and Rating) movies and see if we can find trends or patterns. First, I need to see the total count of Movies by `start_year` and `genres`. Here, I'm also separating all genres in different rows. I noticed that some movies have multiple genres, but I'm trying to identify which one genre is more prevalent in this analysis."
   ]
  },
  {
   "cell_type": "code",
   "execution_count": null,
   "metadata": {},
   "outputs": [],
   "source": [
    "# Create new dataframe with title + ratings\n",
    "genres_ratings = pd.merge(imdb_title_basics, imdb_title_ratings, on='tconst')\n",
    "\n",
    "# I wonder how much of my dataset is left after joining ratings\n",
    "print(len(genres_ratings) / len(imdb_title_basics))"
   ]
  },
  {
   "cell_type": "markdown",
   "metadata": {},
   "source": [
    "Wow, we have ratings only for 50% of the movies! That should be enough for us to come up with some insights, though.\n",
    "\n",
    "Before we start, I'd like to look at the distribution of votes because it's unfair to compare a movie with ten votes against others with 100000 votes."
   ]
  },
  {
   "cell_type": "code",
   "execution_count": null,
   "metadata": {},
   "outputs": [],
   "source": [
    "genres_ratings['numvotes'].describe().round()"
   ]
  },
  {
   "cell_type": "markdown",
   "metadata": {},
   "source": [
    "Oh, it's all over the place. I'd think that Microsoft would be insterested on a movie with lots of reviews. Therefore, I'm going to focus on the top 1% of movies in terms of No. of Votes."
   ]
  },
  {
   "cell_type": "code",
   "execution_count": null,
   "metadata": {},
   "outputs": [],
   "source": [
    "# First let's calculate the quantile\n",
    "quantile_number = genres_ratings['numvotes'].quantile(0.99)\n",
    "print(quantile_number)"
   ]
  },
  {
   "cell_type": "code",
   "execution_count": null,
   "metadata": {},
   "outputs": [],
   "source": [
    "# I'm going to keep only what's above or equal the quantile and concatenate the genres\n",
    "top_quantile = genres_ratings[genres_ratings['numvotes'] >= quantile_number]\n",
    "top_quantile['genres_combination'] = top_quantile['genres'].str.join(\", \")"
   ]
  },
  {
   "cell_type": "markdown",
   "metadata": {},
   "source": [
    "Next, I'm going to look at the genres trying to understand which ones are the most popular and have the highest ratings. To achieve that, I'm grouping the movies by `genres` picking the top 5 in terms of No. of Movies and taking some basic statistics on `averagerating`."
   ]
  },
  {
   "cell_type": "code",
   "execution_count": null,
   "metadata": {},
   "outputs": [],
   "source": [
    "top_1_percent = top_quantile.groupby('genres_combination')['averagerating'].describe().reset_index()\n",
    "top_1_percent = top_1_percent.sort_values('count', ascending=False).head(5)\n",
    "top_1_percent"
   ]
  },
  {
   "cell_type": "markdown",
   "metadata": {},
   "source": [
    "#### Conclusions\n",
    "- `Action, Adventure, Sci-Fi`: Has the most Number of Movies. However, it has the highest a Standard Deviation, meaning that the ratings vary more relative to others.\n",
    "- `Adventure, Animation, Comedy`: It has the highest mean and lower Standard Deviation relative to `Action, Adventures, Sci-Fi`. Also, has the highest min ratings.\n",
    "\n",
    "Let's continue and see the distribution of `averagerating`."
   ]
  },
  {
   "cell_type": "code",
   "execution_count": null,
   "metadata": {},
   "outputs": [],
   "source": [
    "# Pull all movies that have one of those 5 categories.\n",
    "top_quantile_genres = top_quantile[top_quantile['genres_combination'].isin(list(top_1_percent['genres_combination']))]\n",
    "\n",
    "# Let's plot the distribution of 'average rating'\n",
    "fig, ax = plt.subplots(figsize=(15,8))\n",
    "\n",
    "# Set Context\n",
    "sns.set_context(\"talk\", font_scale=0.8)\n",
    "\n",
    "# Create chart\n",
    "s = sns.histplot(data=top_quantile_genres, x=\"averagerating\", hue=\"genres_combination\", ax=ax, element=\"step\")\n",
    "\n",
    "# Set Axis Labels\n",
    "plt.xlabel('Average Ratings', fontsize=15)\n",
    "plt.ylabel('No. of Movies', fontsize=15)\n",
    "\n",
    "# Set Ticks size\n",
    "plt.xticks(fontsize=13)\n",
    "plt.yticks(list(range(0,11,1)), fontsize=13)\n",
    "\n",
    "# Add Title and legend outside the chart\n",
    "plt.title('Distribution of Average Rating by Genre', fontsize=16)\n",
    "plt.show();"
   ]
  },
  {
   "cell_type": "markdown",
   "metadata": {},
   "source": [
    "It seems like `Action, Adventure, Sci-Fi` has more records on high ratings and higher `mean` as we saw before.\n",
    "\n",
    "Another good way to look at this is by stacking the columns."
   ]
  },
  {
   "cell_type": "code",
   "execution_count": null,
   "metadata": {},
   "outputs": [],
   "source": [
    "# Let's plot the distribution of 'average rating'\n",
    "fig, ax = plt.subplots(figsize=(15,8))\n",
    "\n",
    "# Set Context\n",
    "sns.set_context(\"talk\", font_scale=0.9)\n",
    "\n",
    "# Create chart\n",
    "sns.histplot(data=top_quantile_genres, x=\"averagerating\", hue=\"genres_combination\", multiple=\"stack\", ax=ax)\n",
    "\n",
    "# Set Axis Labels\n",
    "plt.xlabel('Average Ratings', fontsize=15)\n",
    "plt.ylabel('No. of Movies', fontsize=15)\n",
    "\n",
    "# Set Ticks size\n",
    "plt.xticks(fontsize=13)\n",
    "plt.yticks(fontsize=13)\n",
    "\n",
    "# Add Title and legend outside the chart\n",
    "plt.title('Stacked Distribution of Average Rating by Genre', fontsize=16)\n",
    "plt.show();"
   ]
  },
  {
   "cell_type": "markdown",
   "metadata": {},
   "source": [
    "Based on this chart, we can see two `genres` with more high rating movies: `Action, Adventure, Sci-Fi` and `Adventure, Animation, Comedy`.\n",
    "\n",
    "### Popularity by Ratings over the years\n",
    "\n",
    "I wonder if we can get to the same conclusions by looking at the same number over the years."
   ]
  },
  {
   "cell_type": "code",
   "execution_count": null,
   "metadata": {},
   "outputs": [],
   "source": [
    "# First let me see if I have enough movies per year to analyze\n",
    "genres_ratings.groupby('start_year').size()"
   ]
  },
  {
   "cell_type": "markdown",
   "metadata": {},
   "source": [
    "Hum. 2019 has way fewer movies than the rest (as previously noted). However, 2019 represents the most recent year in our dataset. So I'm going to keep it, but it's good to not forget that while I'm analyzing 2019.\n",
    "\n",
    "To look at the most popular movies over time, let's to the following:\n",
    "- Loop through the years\n",
    "- Keep only the top 1% of movies in terms of No. of Votes\n",
    "- Count the No. of Movies per Genre\n",
    "- Select the Top 5 in No. of Movies"
   ]
  },
  {
   "cell_type": "code",
   "execution_count": null,
   "metadata": {},
   "outputs": [],
   "source": [
    "def analyze_genres(df, genres_field, comparison_metric, quantile_perc=0.99):\n",
    "    \"\"\"Creates report with top genres based on metric selected, quantile number and genre field.\n",
    "\n",
    "    Args:\n",
    "      df(pd.DataFrame): DataFrame with Genres/Ratings information.\n",
    "      genres_field(str): Choose genre to be analyzed: 'genres' or 'genres_combination'. 'genres' will\n",
    "                         separate each genre into different rows, while 'genres_combination' will keep\n",
    "                         all different combinations.\n",
    "      comparison_metric(str): Choose which metric to select the top genres: 'count' or 'mean'. \n",
    "      quantile_perc(float): Quantile Percentage for top movies (Default value is 99%)\n",
    "\n",
    "    Returns:\n",
    "      A DataFrame with results.\n",
    "    \"\"\"\n",
    "    \n",
    "    # Create a list of years and sort it\n",
    "    years_sorted = sorted(list(df['start_year'].unique()))\n",
    "\n",
    "    # Go through every year\n",
    "    for idx, year in enumerate(years_sorted):\n",
    "\n",
    "        # Filter genre/ratings dataframe based on year\n",
    "        ratings_by_year = df[df['start_year'] == year]\n",
    "\n",
    "        # Get the top X% by number of votes\n",
    "        top_quantile_number = ratings_by_year['numvotes'].quantile(quantile_perc)\n",
    "\n",
    "        # I'm going to keep only what's above or equal the quantile\n",
    "        top_quantile = ratings_by_year[ratings_by_year['numvotes'] >= top_quantile_number]\n",
    "        \n",
    "        # If 'genres_combination' then we need to combine the genres and create a string\n",
    "        if genres_field == 'genres_combination':\n",
    "            top_quantile[genres_field] = top_quantile['genres'].str.join(\", \")\n",
    "            \n",
    "        # If 'genres' then each genre will be analyzed seperately, not the combination.\n",
    "        elif genres_field == 'genres':\n",
    "            top_quantile = top_quantile.explode(genres_field)\n",
    "        \n",
    "        else:\n",
    "            print('Invalid genres_field')\n",
    "            break\n",
    "\n",
    "        # Compare genres based on total no. of movies in top X% number of votes.\n",
    "        if comparison_metric == 'count':\n",
    "\n",
    "            # Group by Genres and count number of records/movies\n",
    "            top_percent = top_quantile.groupby(genres_field).count()['averagerating'].reset_index()\n",
    "            top_percent.columns = [genres_field, 'count']\n",
    "            \n",
    "            # Sort by count and select top 5 based on highest count\n",
    "            top_percent = top_percent.sort_values('count', ascending=False).reset_index(drop=True).head(5)\n",
    "        \n",
    "        # Compare genres based on ratings mean, we will select the movies with highest average rating\n",
    "        elif comparison_metric == 'mean':\n",
    "            \n",
    "            # Group by Genres and calculate basic statistics on Average Rating\n",
    "            top_percent = top_quantile.groupby(genres_field).describe()['averagerating'].reset_index()\n",
    "            \n",
    "            # Select top 5 in count so we keep only relevant genres, then sort records by mean\n",
    "            top_percent = top_percent.sort_values('count', ascending=False).reset_index(drop=True).head(5)\n",
    "            top_percent = top_percent.sort_values('mean', ascending=False).reset_index(drop=True)\n",
    "            \n",
    "        else:\n",
    "            print('Invalid metric')\n",
    "            break\n",
    "    \n",
    "        # Create ranking and year column\n",
    "        top_percent['rank'] = top_percent.index + 1\n",
    "        top_percent['start_year'] = year\n",
    "\n",
    "        # Create master dataframe where we will store each dataframe for each year\n",
    "        if idx == 0:\n",
    "            master_df = top_percent.copy()\n",
    "        else:\n",
    "            master_df = pd.concat([master_df, top_percent])\n",
    "\n",
    "    # Create Pivot Table of master and transpose the dataframe\n",
    "    to_plot = pd.pivot_table(master_df, values='rank', index='start_year', columns=[genres_field], aggfunc=np.sum)\n",
    "    to_plot = to_plot.transpose().reset_index()\n",
    "\n",
    "    # Count the number of times the genre was in the top 5 over the last 10 years\n",
    "    to_plot['no_of_times'] = to_plot.apply(lambda x: x.notnull().sum(), axis='columns') - 1\n",
    "    \n",
    "    # Return result\n",
    "    return to_plot.fillna('').sort_values('no_of_times', ascending=False)"
   ]
  },
  {
   "cell_type": "markdown",
   "metadata": {},
   "source": [
    "### Rank of  `genres_combination` over time by No. of Movies with the most votes\n",
    "Generate report looking at `genres_combination` and choosing the top movies based on count."
   ]
  },
  {
   "cell_type": "code",
   "execution_count": null,
   "metadata": {},
   "outputs": [],
   "source": [
    "analyze_genres(genres_ratings, genres_field='genres_combination', comparison_metric='count')"
   ]
  },
  {
   "cell_type": "markdown",
   "metadata": {},
   "source": [
    "#### Conclusions:\n",
    "- `Action, Adventures, Sci-Fi`: Definitely the most popular genre over the years in terms of No. of Movies (first place several times). It seems to be a `genre` that's popular amongst it's fans since they vote for these movies more than others.\n",
    "- `Action, Adventure, Fantasy`: Also another `genre` that has been popular over the last years, there's still no movies in 2019 though, it might be a good opportunity.\n",
    "\n",
    "### Rank of  `genres_combination` over time by Highest Average Rating\n",
    "Another way of looking at this, is to understand which `genres` have the best ratings. We can do that by looking at the mean of `averagerating` among the movies in a given `genre` and that's what I'm going to do next."
   ]
  },
  {
   "cell_type": "code",
   "execution_count": null,
   "metadata": {},
   "outputs": [],
   "source": [
    "analyze_genres(genres_ratings, genres_field='genres_combination', comparison_metric='mean')"
   ]
  },
  {
   "cell_type": "markdown",
   "metadata": {},
   "source": [
    "#### Conclusions:\n",
    "- `Action, Adventure, Sci-Fi` and `Action, Adventure, Fantasy` have a lot of movies, however, not all of them have the best ratings. `Adventure, Animation, Comedy` has better positions, so it might be a genre that's easier to succeed in terms of ratings.\n",
    "\n",
    "### Rank of unique  `genres` over time by No. of Movies with the most votes\n",
    "What if instead of looking at `genres_combination` we look at individual genres? "
   ]
  },
  {
   "cell_type": "code",
   "execution_count": null,
   "metadata": {},
   "outputs": [],
   "source": [
    "analyze_genres(genres_ratings, genres_field='genres', comparison_metric='count')"
   ]
  },
  {
   "cell_type": "markdown",
   "metadata": {},
   "source": [
    "#### Conclusions\n",
    "- `Action`, `Adventure`, `Drama` and `Comedy` are consistenly on the top in number of movies with highest number of votes. These individual genres could be good opportunities.\n",
    "\n",
    "### Rank of unique  `genres` over time by Highest Average Rating"
   ]
  },
  {
   "cell_type": "code",
   "execution_count": null,
   "metadata": {},
   "outputs": [],
   "source": [
    "analyze_genres(genres_ratings, genres_field='genres', comparison_metric='mean')"
   ]
  },
  {
   "cell_type": "markdown",
   "metadata": {},
   "source": [
    "#### Conlusions\n",
    "- `Drama` over the last 10 years ended in first place in ratings 8 times! It could be a good genre if we are looking for high ratings.\n",
    "- Second place is all over the place, with `Thriller` having some consistency initially.\n",
    "\n",
    "### Understand `Action, Adventure, Sci-Fi` , `Action, Adventure, Fantasy` and `Adventure, Animation, Comedy`\n",
    "These are extremely popular `genres` I want to take a look at the movies and try to understand why they're so popular.\n",
    "\n",
    "`Action, Adventure, Sci-Fi`"
   ]
  },
  {
   "cell_type": "code",
   "execution_count": null,
   "metadata": {},
   "outputs": [],
   "source": [
    "understand_genres = genres_ratings.copy()\n",
    "understand_genres['genres_combination'] = understand_genres['genres'].str.join(\", \")\n",
    "action_1 = understand_genres[understand_genres['genres_combination'] == 'Action, Adventure, Sci-Fi']\n",
    "action_1.sort_values('numvotes', ascending=False).head(10)[['original_title']]"
   ]
  },
  {
   "cell_type": "markdown",
   "metadata": {},
   "source": [
    "`Action, Adventure, Fantasy`"
   ]
  },
  {
   "cell_type": "code",
   "execution_count": null,
   "metadata": {},
   "outputs": [],
   "source": [
    "action_2 = understand_genres[understand_genres['genres_combination'] == 'Action, Adventure, Fantasy']\n",
    "action_2.sort_values('numvotes', ascending=False).head(10)[['original_title']]"
   ]
  },
  {
   "cell_type": "markdown",
   "metadata": {},
   "source": [
    "`Adventure, Animation, Comedy`"
   ]
  },
  {
   "cell_type": "code",
   "execution_count": null,
   "metadata": {},
   "outputs": [],
   "source": [
    "action_3 = understand_genres[understand_genres['genres_combination'] == 'Adventure, Animation, Comedy']\n",
    "action_3.sort_values('numvotes', ascending=False).head(10)[['original_title']]"
   ]
  },
  {
   "cell_type": "markdown",
   "metadata": {},
   "source": [
    "# Answer:\n",
    "\n",
    "**The Fanbase factor:**\n",
    "> `Action, Adventure, Sci-Fi`, `Adventure, Animation, Comedy` and `Action, Adventure, Fantasy` have been very popular over the last ten years. They are competitive `genres` with the most No. of Movies in the Top 1% of movies in terms of number of votes. <br><br>I think the reason is that most of these movies are **superhero movies (Captain America, Iron Man 2, Thor, and Wonder Woman)**. Or part of a **movie series (Avengers, Star Wars, Pirates of the Caribbean, Toy Story, Despicable Me)** or **Pixar Movies**. <br><br>\n",
    "**They attract a lot of fans over time. So once you have that fanbase, it becomes easier to create movies with a lot of views and become popular.** <br><br>\n",
    "A good strategy for Microsoft might be to enter this world and try to **partner with another company** like DC/Marvel and create an exclusive superhero series. The good thing about a partnership is that they wouldn't have to develop a new story since they would use an existing character. <br><br>\n",
    "Also, another option would be to develop a new `Adventure, Animation, Comedy` story with **unique characters like Minions on Despicable Me.** This one is a bit harder to execute, though.\n",
    "\n",
    "[Go Back to Table of Contents](#toc)\n",
    "# Fifth Question: Which roles are the most important in a movie? <a class=\"anchor\" id=\"fifth-question\"></a>\n",
    "-------------------\n",
    "The idea of this question is to **understand which roles require more attention** or are more likely to **bring more views/votes to movies**. Maybe there are some similarities among successful films. <br> By knowing which roles bring more votes, Microsoft can plan their budget accordingly or dedicate more time to find the best on important roles.\n",
    "\n",
    "## Let's build our team!\n",
    "\n",
    "Next, I will look at the people working on these movies to see if we can build a reliable team that will most likely guarantee success. I hypothesize that in movies, the actor/actress/director/etc. matter a lot and will attract more viewers' attention.\n",
    "\n",
    "The first step is to bring all that information together, so I'm going to take the principal members, bring their names, and then merge that with the previous dataframe we built where we have genre, ratings, and number of votes."
   ]
  },
  {
   "cell_type": "code",
   "execution_count": null,
   "metadata": {},
   "outputs": [],
   "source": [
    "# First step is to bring all that information together\n",
    "crew_names = pd.merge(imdb_title_principals, imdb_name, on='nconst')\n",
    "crew_names_genres_ratings = pd.merge(crew_names, genres_ratings, on='tconst')\n",
    "crew_names_genres_ratings.head()"
   ]
  },
  {
   "cell_type": "markdown",
   "metadata": {},
   "source": [
    "We have one row for each 'principal' person who was part of the movies.\n",
    "\n",
    "#### Most Votes by Person/Role\n",
    "\n",
    "The first noticeable thing to do is look at the number of votes by person and come up with a list of people who bring more votes."
   ]
  },
  {
   "cell_type": "code",
   "execution_count": null,
   "metadata": {},
   "outputs": [],
   "source": [
    "total_num_votes = crew_names_genres_ratings.groupby(['nconst', 'primary_name']).sum()['numvotes']\n",
    "total_num_votes.sort_values(ascending=False).head(10)"
   ]
  },
  {
   "cell_type": "markdown",
   "metadata": {},
   "source": [
    "I'm not surprised to see all these famous names above. However, it might be a better idea to look at them based on their role.\n",
    "\n",
    "### How to appropriately count votes?\n",
    "The only problem of looking at their roles is that sometimes a movie has ten actors, which means that the `No of Votes` will be multiplied by 10x if I assign the same number to all principal members. It's also expected that a movie with several starts will have more votes, so it's fair to distribute the votes evenly. This approach will favor higher ratios of vote per person.\n",
    "\n",
    "To do that, I'm going to 'distribute' these votes by taking the `No of Votes` and dividing it evenly among the principal members.\n",
    "\n",
    "For example, if a movie has the following:\n",
    "- 9 Principal Members (4 Actors, 4 Actresses, 1 Director)\n",
    "- `No of votes` = 900,000\n",
    "\n",
    "Each principal member will be attributed with:\n",
    "- Weighted Number of Votes = 900,000 / 9 = 100,000 votes\n",
    "\n",
    "The idea is to distribute the importance of each member evenly and not favoring anybody. On the other hand, if a movie has two members and the same 900,000 votes, these two persons have a lot of importance since they brought more votes."
   ]
  },
  {
   "cell_type": "code",
   "execution_count": null,
   "metadata": {},
   "outputs": [],
   "source": [
    "# We need to adjust our dataframe to include a column with total number of members by movie\n",
    "# First I'm calculating the total number of members by title\n",
    "no_of_members_by_movie = crew_names_genres_ratings.groupby('tconst').count()['ordering'].reset_index()\n",
    "no_of_members_by_movie.columns = ['tconst', 'no_of_members']\n",
    "\n",
    "# Now, I'm merging the total number with 'crew_names_genres_ratings' and then I can calculate the 'weighted_votes'\n",
    "# by dividing the total 'numvotes' by 'no_of_members'\n",
    "crew_names_genres_ratings = pd.merge(crew_names_genres_ratings, no_of_members_by_movie, on='tconst')\n",
    "crew_names_genres_ratings['weighted_votes'] = crew_names_genres_ratings['numvotes'] / crew_names_genres_ratings['no_of_members']\n",
    "crew_names_genres_ratings.head()"
   ]
  },
  {
   "cell_type": "code",
   "execution_count": null,
   "metadata": {},
   "outputs": [],
   "source": [
    "# Now, I'm going to sum the 'weighted_votes' by person and category\n",
    "total_num_votes_role = crew_names_genres_ratings.groupby(['nconst', 'primary_name', 'category']).sum()['weighted_votes']\n",
    "total_num_votes_role = total_num_votes_role.reset_index()\n",
    "total_num_votes_role.columns = ['nconst', 'primary_name', 'category', 'total_weighted_votes']\n",
    "total_num_votes_role.head()"
   ]
  },
  {
   "cell_type": "markdown",
   "metadata": {},
   "source": [
    "Let's see the distribution in No. of Votes by `category`. <br> But instead of showing totals, I'm going to calculate the % of each role from the total sum of votes."
   ]
  },
  {
   "cell_type": "code",
   "execution_count": null,
   "metadata": {},
   "outputs": [],
   "source": [
    "# Calculate total weightes number of votes by role\n",
    "to_plot = total_num_votes_role.groupby('category').sum()['total_weighted_votes'].reset_index()\n",
    "to_plot.columns = ['category', 'num_of_votes']\n",
    "\n",
    "# Divide that by total number of votes\n",
    "to_plot['votes_perc'] = to_plot['num_of_votes'] / to_plot['num_of_votes'].sum()\n",
    "to_plot = to_plot.sort_values('votes_perc', ascending=False)\n",
    "\n",
    "# Plot\n",
    "fig, ax = plt.subplots(figsize=(16,6))\n",
    "\n",
    "sns.barplot(x='category', y=\"votes_perc\", data=to_plot, ax=ax)\n",
    "plt.title('% of Total Number of Votes by Category', size=16)\n",
    "plt.ylabel('% of Total Votes', fontsize=15)\n",
    "plt.xlabel('Category', fontsize=15)\n",
    "plt.xticks(rotation=90)\n",
    "\n",
    "plt.show();"
   ]
  },
  {
   "cell_type": "markdown",
   "metadata": {},
   "source": [
    "change approach, divide by total number of roles, then within the roles divide again."
   ]
  },
  {
   "cell_type": "markdown",
   "metadata": {},
   "source": [
    "# Answer:\n",
    "> The chart above shows **which roles were the most frequent in high voted movies**. Therefore, we could say that it reports the **level of importance of each role**. We can say that Microsoft should first **focus on getting the best actors, then writers, producers, actresses, and directors**. <br><br>Unfortunately, this analysis is biased towards men, as we can see that actors have a higher percentage relative to actresses. And the reason is that there are more actors in high voted movies. I'd probably group both as the same to avoid adding this type of bias.\n",
    "\n",
    "[Go Back to Table of Contents](#toc)\n",
    "# Sixth Question: What's the impact in terms of the popularity of having a movie playing internationally? <a class=\"anchor\" id=\"sixth-question\"></a>\n",
    "-------------------\n",
    "This question aims to understand whether Microsoft should also focus on making the movie **famous internationally** or if most of the popular films didn't necessarily were played in different countries. <br>By launching a film in different countries, there's much preparation and other things to consider (Marketing Material, Subtitles, Local Titles, etc.). So knowing this ahead of time is helpful.\n",
    "\n",
    "To answer the question, I'm going to again rely on the No. of Votes per movie and use the different titles in different regions to estimate how many places/countries/regions the film was played."
   ]
  },
  {
   "cell_type": "code",
   "execution_count": null,
   "metadata": {},
   "outputs": [],
   "source": [
    "region_votes = pd.merge(imdb_title_ratings, imdb_title_akas, right_on='title_id', left_on='tconst')\n",
    "region_votes.head()"
   ]
  },
  {
   "cell_type": "code",
   "execution_count": null,
   "metadata": {},
   "outputs": [],
   "source": [
    "# Show unique regions\n",
    "region_votes['region'].unique()"
   ]
  },
  {
   "cell_type": "code",
   "execution_count": null,
   "metadata": {},
   "outputs": [],
   "source": [
    "# Let's see how many of the records are nulls\n",
    "print(len(region_votes[region_votes['region'].isnull()]) / len(region_votes))\n",
    "print(len(region_votes[region_votes['region'].isnull()]['tconst'].unique()) / len(region_votes['tconst'].unique()))"
   ]
  },
  {
   "cell_type": "markdown",
   "metadata": {},
   "source": [
    "16% of the dataframe is null and 53% of the titles have at least one missing `region`. <br>Let's investigate a bit further to see if there's anything we can do about it."
   ]
  },
  {
   "cell_type": "code",
   "execution_count": null,
   "metadata": {},
   "outputs": [],
   "source": [
    "region_votes[region_votes['region'].isnull()].sort_values('title')"
   ]
  },
  {
   "cell_type": "markdown",
   "metadata": {},
   "source": [
    "The data is not consistent and since it represents 53% of all titles I'm not going to remove it. However, to keep my calculations simple, I'm going to replace `null` with a placeholder `blank`."
   ]
  },
  {
   "cell_type": "code",
   "execution_count": null,
   "metadata": {},
   "outputs": [],
   "source": [
    "region_votes.loc[region_votes['region'].isnull(), 'region'] = 'blank'"
   ]
  },
  {
   "cell_type": "markdown",
   "metadata": {},
   "source": [
    "#### Calculate Average No. of Votes by No. of Regions"
   ]
  },
  {
   "cell_type": "code",
   "execution_count": null,
   "metadata": {},
   "outputs": [],
   "source": [
    "# Calculate No. of Regions by Title\n",
    "movie_region_count = region_votes.groupby(['tconst', 'numvotes']).count()['region']\n",
    "movie_region_count = movie_region_count.reset_index()\n",
    "movie_region_count.columns = ['tconst', 'numvotes', 'num_of_regions']\n",
    "\n",
    "# Create bins of No. of Regions\n",
    "bins = list(range(0,80,10))\n",
    "labels = ['0-10', '10-20', '20-30', '30-40', '40-50', '50-60', '60-70']\n",
    "movie_region_count['binned'] = pd.cut(movie_region_count['num_of_regions'], bins=bins, labels=labels)\n",
    "\n",
    "# Create DataFrame to plot\n",
    "to_plot = movie_region_count.groupby('binned').mean()['numvotes'].reset_index()\n",
    "to_plot.columns = ['num_of_regions', 'avg_num_of_votes']\n",
    "\n",
    "# Create chart\n",
    "to_plot.plot.barh(x='num_of_regions', y='avg_num_of_votes', figsize=(12,5), legend=False)\n",
    "\n",
    "# Set title, labels and ticks size\n",
    "plt.title('Average No. of Votes by No. of Regions', size=16)\n",
    "plt.ylabel('No. of Regions', fontsize=15)\n",
    "plt.xlabel('Average No. of Votes', fontsize=15)\n",
    "plt.show();"
   ]
  },
  {
   "cell_type": "markdown",
   "metadata": {},
   "source": [
    "# Answer:\n",
    "> Based on the chart above, we can see that the **Average No. of Votes increases as the No. of Regions in which the movie is played increases**. Therefore, my recommendation for Microsoft would be to prepare to **launch the film internationally**.\n",
    "\n",
    "[Go Back to Table of Contents](#toc)\n",
    "# Conclusions <a class=\"anchor\" id=\"conclusions\"></a>\n",
    "\n",
    "-------------------\n",
    "**1. The Film Industry is a competitive and growing market:** The supply of new movies is increasing over the years. The reason for that can be the following:\n",
    "\n",
    "- Movies have become cheaper to make over time.\n",
    "- The market and customer base grew. So the demand for more content is growing.\n",
    "- People have access to the internet + Consumers are moving from Cable TV to On-Demand subscriptions.\n",
    "\n",
    "Those are all positive reasons for Microsoft to enter the Film Industry. The only problem is that competition has grown a lot, and Microsoft will compete with Apple, Netflix, Disney, and YouTube. Moreover, there's a lot of discussions on the subscription market's saturation, so their pricing will have to be competitive.\n",
    "\n",
    "**2. Documentary, Drama, and Comedy are the most popular genres in No. of Movies:** After analyzing movies in IMDb's database, it's possible to see significant numbers of `Documentaries`, `Drama` and `Comedy` movies. When looking at different combinations of genres, `Comedy + Drama` and `Comedy + Drama + Romance` have had the most No. of Movies over the last ten years. For Microsoft, these might be too saturated genres to enter but show a picture of the industry.\n",
    "\n",
    "**3. Building a Fanbase:** During the analysis of the Most Voted/Best Rated movies, `Action, Adventure, Sci-Fi`, `Adventure, Animation, Comedy` and `Action, Adventure, Fantasy` showed up a lot over the last ten years. Those were the `genres` with the most No. of Movies in the Top 1% of movies in terms of number of votes. <br>I think the reason is that most of these movies are **superhero movies (Captain America, Iron Man 2, Thor, and Wonder Woman)**, part of a **movie series (Avengers, Star Wars, Pirates of the Caribbean, Toy Story, Despicable Me)** or **Pixar Movies**. <br> **They attract a lot of fans over time. So once you have that fanbase, it becomes easier to create movies with a lot of views, votes and become popular.** <br>\n",
    "Therefore, a good strategy for Microsoft might be to enter this world and try to **partner with another company** like DC/Marvel and create an exclusive superhero series. The good thing about a partnership is that they wouldn't have to develop a new story since they would use an existing character. <br>Also, another option would be to develop a new `Adventure, Animation, Comedy` story with **unique characters like Minions on Despicable Me.** This one is a bit harder to execute, though.\n",
    "\n",
    "**4. Hire the best on roles that matter the most:** After analyzing **which roles were the most frequent in high voted movies**. The recommendation is to **focus on getting the best actors, then writers, producers, actresses, and directors**. _Note: Unfortunately, this analysis is biased towards men since actors have higher importance relative to actresses. And the reason is that there are more actors in high voted movies. I'd probably group both as the same to avoid adding this type of bias._\n",
    "\n",
    "**5. Have an international footprint:** The **Average No. of Votes increases as the No. of Regions in which the movie is played increases**. Therefore, my recommendation for Microsoft would be to prepare to **launch the film internationally**.\n",
    "\n",
    "[Go Back to Table of Contents](#toc)\n",
    "# Final Thoughts <a class=\"anchor\" id=\"final-thoughts\"></a>\n",
    "\n",
    "-------------------\n",
    "More could be done to gather more insights. For example, I'd like to see the number of Tickets Sold, viewers + demographics, and more information on which Platform/Studio created the movie. Moreover, understanding Microsoft's goals would also guide my analysis to relevant conclusions for them. For example, I don't know if they're trying to be profitable in this endeavor or if the goal is to enter this industry and then worry about profitability. "
   ]
  }
 ],
 "metadata": {
  "kernelspec": {
   "display_name": "learn-env",
   "language": "python",
   "name": "learn-env"
  },
  "language_info": {
   "codemirror_mode": {
    "name": "ipython",
    "version": 3
   },
   "file_extension": ".py",
   "mimetype": "text/x-python",
   "name": "python",
   "nbconvert_exporter": "python",
   "pygments_lexer": "ipython3",
   "version": "3.6.9"
  }
 },
 "nbformat": 4,
 "nbformat_minor": 2
}
